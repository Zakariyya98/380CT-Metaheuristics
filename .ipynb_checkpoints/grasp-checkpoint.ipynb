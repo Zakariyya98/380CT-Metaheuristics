{
 "cells": [
  {
   "cell_type": "markdown",
   "metadata": {},
   "source": [
    "# The Problem"
   ]
  },
  {
   "cell_type": "markdown",
   "metadata": {},
   "source": [
    "The Travelling Salesman Problem (TSP) is a well-studied optimization problem that has been proved to be non-deterministic NP hard problem (Mersiovsky et al., 2018). The TSP problem involves a travelling salesperson wanting to visit exactly one city in a list of cities and afterwards return to first city at the lowest cost. Metaheuristics algorithms such as Tabu search and greedy randomized adaptive search procedure (GRASP) can provide an optimized way to solve this problem. \n",
    "\n",
    "Metaheuristic algorithms provide an optimized way of solving complex problems, such as the travel salesman problem. Compared to other algorithms such as optimization algorithms and iterative methods, metaheuristics cannot guarantee a global optimal solution for some class problems (Wikipedia, n.d.).\n"
   ]
  },
  {
   "cell_type": "markdown",
   "metadata": {},
   "source": [
    "# The Graph"
   ]
  },
  {
   "cell_type": "code",
   "execution_count": 2,
   "metadata": {
    "collapsed": true
   },
   "outputs": [],
   "source": [
    "from random import randint, choice\n",
    "from pprint import pprint\n",
    "from itertools import permutations\n",
    "from math import inf as oo # Infinity (∞) is larger than any number\n",
    "from math import sqrt\n",
    "from time      import time\n",
    "import matplotlib.pyplot as plt\n",
    "import copy\n",
    "\n",
    "MAX_DISTANCE = 100\n",
    "\n",
    "def random_symmetric_graph(n):\n",
    "    ''' Symmetric adjacency matrix of size nxn '''\n",
    "    dist_matrix = [[oo for _ in range(n)] for _ in range(n)]\n",
    "    for i in range(n):\n",
    "        for j in range(i+1,n):\n",
    "            v = randint(1,MAX_DISTANCE)\n",
    "            dist_matrix[i][j] = v\n",
    "            dist_matrix[j][i] = v\n",
    "    return dist_matrix\n",
    "\n",
    "def random_euclidean_graph(n):\n",
    "    ''' Symmetric adjacency matrix of a Euclidean graph of size nxn '''\n",
    "    dist_matrix = [[oo for _ in range(n)] for _ in range(n)]\n",
    "    points = []\n",
    "    for p in range(n):\n",
    "        x,y = randint(0,MAX_DISTANCE), randint(0,MAX_DISTANCE)\n",
    "        points.append((x,y))\n",
    "    for i in range(n):\n",
    "        p1 = points[i]\n",
    "        for j in range(i+1,n):\n",
    "            p2 = points[j]\n",
    "            distance = sqrt((p1[0]-p2[0])**2+(p1[1]-p2[1])**2)\n",
    "            dist_matrix[i][j] = distance\n",
    "            dist_matrix[j][i] = distance\n",
    "    return dist_matrix\n",
    "\n",
    "def show(G):\n",
    "    ''' Show adjacency matrix. Useful for debugging. '''\n",
    "    n = len(G)\n",
    "    r = \"     \"\n",
    "    for i in range(n):\n",
    "        r += f'{i:4}'\n",
    "    r += '\\n    -'+'-'*(4*n)+'\\n'\n",
    "    for i in range(n):\n",
    "        r += f'{i:2} | '\n",
    "        for j in range(n):\n",
    "            r += f'{G[i][j]:4}'\n",
    "        r += '\\n'\n",
    "    r = r.replace('inf', '  ∞')\n",
    "    print(r)\n",
    "\n",
    "def cost(G, cycle):\n",
    "    ''' Calculate the cost of the given cycle '''\n",
    "    c = 0\n",
    "    n = len(G)\n",
    "    for i in range(n):\n",
    "        a = cycle[i]\n",
    "        b = cycle[(i+1)%n]\n",
    "        c += G[a][b]\n",
    "    return c"
   ]
  },
  {
   "cell_type": "code",
   "execution_count": 3,
   "metadata": {
    "collapsed": true
   },
   "outputs": [],
   "source": [
    "G = random_symmetric_graph(12)"
   ]
  },
  {
   "cell_type": "code",
   "execution_count": 4,
   "metadata": {},
   "outputs": [
    {
     "name": "stdout",
     "output_type": "stream",
     "text": [
      "        0   1   2   3   4   5   6   7   8   9  10  11\n",
      "    -------------------------------------------------\n",
      " 0 |    ∞  62  54   6  97  66  59  94  96  65  81   4\n",
      " 1 |   62   ∞  31  22  45  62  23  58   6  56  40  97\n",
      " 2 |   54  31   ∞  25   5  54  72  66  47  13  75  67\n",
      " 3 |    6  22  25   ∞  49  33  12  99  56  65  16  45\n",
      " 4 |   97  45   5  49   ∞  11  23  92  24  63  74  88\n",
      " 5 |   66  62  54  33  11   ∞  62  69  88  19   4  44\n",
      " 6 |   59  23  72  12  23  62   ∞   6  73  78  38   1\n",
      " 7 |   94  58  66  99  92  69   6   ∞ 100  42  54  65\n",
      " 8 |   96   6  47  56  24  88  73 100   ∞   9 100  89\n",
      " 9 |   65  56  13  65  63  19  78  42   9   ∞  81  86\n",
      "10 |   81  40  75  16  74   4  38  54 100  81   ∞  55\n",
      "11 |    4  97  67  45  88  44   1  65  89  86  55   ∞\n",
      "\n"
     ]
    }
   ],
   "source": [
    "show(G)"
   ]
  },
  {
   "cell_type": "markdown",
   "metadata": {},
   "source": [
    "# Greedy Randomized Adaptive Search Procedure (GRASP)"
   ]
  },
  {
   "cell_type": "markdown",
   "metadata": {},
   "source": [
    "Pseudocode:"
   ]
  },
  {
   "cell_type": "markdown",
   "metadata": {},
   "source": [
    "**Initialization**\n",
    "<br>\n",
    "Obj(BestSoln) = 0\n",
    "<br>\n",
    "**For** For i = 1 to $n_{i}$ **do**\n",
    "<br>\n",
    "$\\quad$ H(Soln) //generate initial solution\n",
    "<br>\n",
    "$\\quad$ LS(Soln)            //apply local search\n",
    "<br>\n",
    "$\\quad$ **If** Obj(Soln) > Obj(BestSoln) **then**\n",
    "<br>\n",
    "$\\quad$$\\quad$BestSoln = Soln    //update the best solution\n",
    "<br>\n",
    "$\\quad$**End if**\n",
    "<br>\n",
    "**End for**\n",
    "<br>\n",
    "<br>\n",
    "(Hamdi, 2014)\n",
    "\n",
    "**Complexity**: 0(n2log(n)) with n being the number of cities"
   ]
  },
  {
   "cell_type": "markdown",
   "metadata": {},
   "source": [
    "GRASP is a meta-heuristic algorithm to solve combinatorial optimization problems, introduced by Feo and Resende (Anh Tu, Tuan Dat, Quang Dung, 2018). It is also recognized as a single solution-based metaheuristic which improves a single solution. This can be considered as a “walk” through neighborhoods through the search space of the problem at hand, in this case TSP problem (Talbi, 2009).\n",
    "\n",
    "During the construction phase a set of candidate solutions are generated from a current solution. The set of candidates are generated by a local search. Then comes the replacement phase which focuses on selecting a candidate solution from the set of candidates and replaces the current solution. The replacement phase is iterated multiple times until a certain criterion is achieved (Ribeiro, Resende, 199). \n",
    "\n",
    "The neighborhood is a key part of designing a solution-based algorithm. The structure of the neighborhood can have an effect on the performance of the algorithm being implemented. If the neighborhood structure is not adequate to the problem, any solution-based metaheuristic will fail to solve the problem (Talbi, 2009). \n",
    "\n",
    "The greedy local search of the GRASP meta-heuristic must be randomized in order to produce various solutions to the TSP problem. If the algorithm was not randomized, then the local search produced can only be used once to produce a solution. "
   ]
  },
  {
   "cell_type": "code",
   "execution_count": 5,
   "metadata": {
    "collapsed": true
   },
   "outputs": [],
   "source": [
    "def GreedySolution(G):\n",
    "    H = copy.deepcopy(G) # We need the original G. We work on/modify H\n",
    "    n = len(H)\n",
    "    cities = list(range(n))\n",
    "    cycle = [] # solution to be built\n",
    "    city = 0 # Start city\n",
    "    while len(cities)>0:\n",
    "        # Find nearest neighbour\n",
    "        city_neighbours = H[city]\n",
    "        if city_neighbours[1:] == city_neighbours[:-1]:\n",
    "            random_distance = oo\n",
    "        else:\n",
    "            random_distance = choice([i for i in city_neighbours if i != oo])\n",
    "        nearest_city = city_neighbours.index(random_distance)\n",
    "        # Update 'cycle' and 'cities' and H then 'city'\n",
    "        cycle.append(city)\n",
    "        cities.remove(city)\n",
    "        for i in range(n): # 'city' is not to be used again!\n",
    "            H[city][i] = oo\n",
    "            H[i][city] = oo\n",
    "        city = nearest_city\n",
    "    return (cycle)\n",
    "\n",
    "def cost_change(cost_mat, n1, n2, n3, n4):\n",
    "    return cost_mat[n1][n3] + cost_mat[n2][n4] - cost_mat[n1][n2] - cost_mat[n3][n4]\n",
    "\n",
    "def two_opt(cost_mat, route):\n",
    "    best = route\n",
    "    improved = True\n",
    "    while improved:\n",
    "        improved = False\n",
    "        for i in range(1, len(route) - 2):\n",
    "            for j in range(i + 1, len(route)):\n",
    "                if j - i == 1: continue\n",
    "                if cost_change(cost_mat, best[i - 1], best[i], best[j - 1], best[j]) < 0:\n",
    "                    best[i:j] = best[j - 1:i - 1:-1]\n",
    "                    improved = True\n",
    "        route = best\n",
    "    return best\n",
    "\n",
    "def grasp(Max_Iterations, G):\n",
    "    CurrentBest = GreedySolution(G)\n",
    "    for count in range(Max_Iterations):\n",
    "        Solution = GreedySolution(G)\n",
    "        NewSolution = two_opt(G,Solution)\n",
    "        cost(G, CurrentBest)\n",
    "        if cost(G, NewSolution) < cost(G, CurrentBest):\n",
    "            CurrentBest = NewSolution\n",
    "            print(CurrentBest, cost(G, CurrentBest))\n",
    "    return CurrentBest"
   ]
  },
  {
   "cell_type": "code",
   "execution_count": 6,
   "metadata": {},
   "outputs": [
    {
     "name": "stdout",
     "output_type": "stream",
     "text": [
      "[0, 11, 6, 7, 1, 8, 9, 5, 10, 3, 2, 4] 250\n",
      "[0, 11, 6, 7, 9, 8, 1, 4, 2, 3, 10, 5] 229\n",
      "[0, 11, 6, 7, 10, 5, 4, 2, 3, 1, 8, 9] 212\n",
      "[0, 11, 6, 7, 1, 8, 9, 2, 4, 5, 10, 3] 139\n",
      "[0, 11, 6, 7, 1, 8, 9, 2, 4, 5, 10, 3]\n"
     ]
    }
   ],
   "source": [
    "print(grasp(1000, G))"
   ]
  },
  {
   "cell_type": "code",
   "execution_count": 13,
   "metadata": {},
   "outputs": [
    {
     "name": "stdout",
     "output_type": "stream",
     "text": [
      "[0, 2, 6, 9, 3, 8, 5, 7, 4, 11, 10, 1] 219\n",
      "[0, 2, 1, 10, 11, 4, 7, 5, 8, 3, 9, 6] 204\n",
      "[0, 11, 4, 7, 10, 1, 2, 6, 9, 3, 8, 5] 197\n",
      "[0, 2, 6, 9, 3, 8, 5, 1, 10, 7, 4, 11] 195\n",
      "12\t0.27617502212524414\n",
      "[0, 12, 6, 2, 5, 1, 7, 4, 8, 9, 3, 10, 11] 185\n",
      "[0, 12, 11, 10, 2, 6, 3, 4, 8, 9, 5, 1, 7] 184\n",
      "[0, 12, 6, 2, 10, 11, 7, 1, 5, 8, 4, 3, 9] 163\n",
      "[0, 11, 7, 1, 5, 9, 8, 4, 3, 10, 2, 6, 12] 151\n",
      "[0, 12, 6, 2, 10, 11, 7, 1, 5, 9, 3, 4, 8] 140\n",
      "13\t0.31713223457336426\n",
      "[0, 9, 3, 5, 10, 11, 7, 2, 1, 4, 13, 8, 6, 12] 164\n",
      "[0, 12, 6, 5, 8, 13, 4, 1, 2, 7, 11, 10, 3, 9] 162\n",
      "14\t0.37772035598754883\n",
      "[0, 7, 6, 9, 4, 8, 3, 13, 2, 12, 5, 1, 10, 11, 14] 233\n",
      "[0, 7, 6, 9, 4, 12, 14, 11, 8, 10, 1, 5, 2, 13, 3] 216\n",
      "[0, 3, 13, 2, 5, 1, 10, 11, 14, 12, 4, 8, 7, 6, 9] 210\n",
      "[0, 3, 13, 2, 12, 14, 11, 10, 1, 5, 6, 7, 8, 4, 9] 208\n",
      "[0, 6, 7, 8, 9, 4, 12, 14, 11, 10, 1, 5, 2, 13, 3] 189\n",
      "15\t0.4444253444671631\n",
      "[0, 6, 11, 9, 13, 8, 12, 4, 14, 10, 5, 1, 2, 15, 7, 3] 309\n",
      "[0, 4, 14, 10, 8, 12, 15, 7, 3, 11, 6, 2, 1, 5, 9, 13] 277\n",
      "[0, 4, 14, 10, 5, 1, 7, 3, 12, 15, 2, 6, 11, 9, 13, 8] 249\n",
      "[0, 10, 14, 4, 12, 3, 11, 7, 15, 2, 1, 5, 6, 8, 13, 9] 247\n",
      "[0, 4, 14, 10, 5, 1, 2, 15, 12, 3, 7, 11, 6, 8, 13, 9] 219\n",
      "16\t0.5133416652679443\n",
      "[0, 5, 10, 13, 14, 15, 16, 12, 1, 4, 3, 2, 9, 7, 6, 8, 11] 270\n",
      "[0, 1, 4, 16, 12, 8, 6, 7, 9, 2, 3, 13, 14, 15, 11, 5, 10] 255\n",
      "[0, 5, 10, 9, 7, 6, 8, 2, 3, 4, 16, 12, 1, 11, 13, 14, 15] 244\n",
      "[0, 14, 15, 13, 3, 2, 9, 7, 6, 8, 11, 1, 4, 16, 12, 5, 10] 239\n",
      "[0, 5, 2, 9, 7, 6, 8, 11, 15, 14, 13, 3, 4, 1, 12, 16, 10] 229\n",
      "[0, 5, 10, 16, 12, 1, 4, 3, 2, 9, 7, 6, 8, 11, 13, 15, 14] 220\n",
      "17\t0.5507857799530029\n",
      "[0, 16, 14, 2, 17, 3, 1, 4, 7, 6, 11, 15, 8, 10, 9, 13, 5, 12] 266\n",
      "[0, 9, 10, 8, 12, 5, 13, 2, 14, 16, 7, 15, 11, 17, 6, 3, 1, 4] 247\n",
      "[0, 9, 10, 8, 15, 11, 17, 6, 3, 7, 16, 14, 2, 13, 5, 12, 1, 4] 239\n",
      "[0, 9, 10, 15, 11, 17, 8, 12, 5, 13, 2, 14, 16, 7, 6, 4, 1, 3] 224\n",
      "[0, 9, 10, 8, 12, 5, 13, 2, 4, 1, 3, 7, 6, 17, 11, 15, 14, 16] 200\n",
      "[0, 14, 16, 7, 3, 1, 4, 2, 13, 5, 12, 17, 6, 11, 15, 8, 10, 9] 193\n",
      "[0, 9, 10, 8, 15, 11, 12, 5, 13, 2, 17, 6, 4, 1, 3, 7, 16, 14] 181\n",
      "18\t0.6307001113891602\n",
      "[0, 9, 18, 13, 2, 1, 7, 3, 10, 11, 4, 16, 6, 17, 5, 14, 15, 12, 8] 253\n",
      "[0, 16, 6, 17, 11, 4, 10, 13, 18, 9, 1, 2, 5, 8, 12, 15, 14, 3, 7] 240\n",
      "[0, 16, 6, 17, 5, 8, 12, 15, 14, 3, 7, 1, 2, 13, 18, 10, 11, 4, 9] 232\n",
      "[0, 9, 18, 10, 13, 2, 1, 7, 3, 14, 15, 12, 8, 5, 4, 11, 17, 6, 16] 219\n",
      "[0, 16, 6, 17, 15, 12, 8, 5, 2, 1, 7, 3, 14, 4, 11, 10, 13, 18, 9] 207\n",
      "19\t0.6822049617767334\n",
      "[0, 9, 5, 7, 1, 19, 4, 3, 2, 15, 12, 11, 14, 6, 17, 18, 13, 16, 10, 8] 339\n",
      "[0, 9, 17, 16, 13, 18, 19, 1, 7, 5, 8, 4, 3, 2, 15, 12, 11, 14, 6, 10] 309\n",
      "[0, 9, 15, 12, 11, 14, 6, 18, 17, 3, 2, 13, 16, 10, 8, 5, 7, 1, 19, 4] 300\n",
      "[0, 9, 16, 17, 18, 13, 2, 3, 4, 11, 12, 15, 14, 6, 10, 19, 1, 7, 5, 8] 292\n",
      "[0, 9, 15, 12, 11, 4, 3, 2, 13, 16, 17, 18, 19, 10, 6, 14, 1, 7, 5, 8] 291\n",
      "[0, 9, 17, 12, 15, 14, 6, 10, 16, 13, 18, 19, 1, 7, 5, 8, 2, 3, 4, 11] 286\n",
      "[0, 9, 17, 18, 6, 14, 15, 12, 11, 19, 1, 7, 5, 8, 10, 16, 13, 2, 3, 4] 281\n",
      "[0, 9, 16, 13, 2, 3, 17, 18, 19, 1, 7, 5, 8, 10, 6, 14, 15, 12, 11, 4] 267\n",
      "20\t0.8019537925720215\n",
      "[0, 7, 20, 1, 3, 18, 4, 11, 2, 16, 14, 13, 8, 5, 9, 6, 10, 17, 12, 19, 15] 293\n",
      "[0, 7, 20, 1, 3, 18, 15, 19, 11, 14, 10, 6, 12, 17, 9, 5, 4, 2, 16, 8, 13] 284\n",
      "[0, 5, 13, 8, 11, 14, 3, 18, 4, 2, 16, 17, 9, 6, 10, 15, 19, 12, 7, 20, 1] 280\n",
      "[0, 7, 20, 1, 6, 9, 17, 12, 19, 15, 10, 14, 3, 18, 4, 11, 2, 16, 8, 5, 13] 269\n",
      "[0, 13, 8, 5, 9, 6, 10, 14, 11, 4, 2, 16, 17, 12, 19, 15, 18, 3, 1, 20, 7] 261\n",
      "21\t0.8348274230957031\n",
      "[0, 21, 17, 1, 18, 8, 11, 6, 9, 16, 15, 14, 7, 20, 2, 12, 5, 3, 10, 4, 19, 13] 372\n",
      "[0, 17, 2, 12, 5, 3, 11, 6, 9, 18, 8, 16, 15, 13, 19, 4, 10, 1, 14, 20, 7, 21] 334\n",
      "[0, 17, 12, 2, 1, 18, 8, 11, 6, 9, 16, 7, 20, 14, 15, 13, 19, 4, 10, 5, 3, 21] 314\n",
      "[0, 21, 13, 15, 14, 20, 7, 16, 18, 8, 11, 6, 9, 19, 4, 10, 3, 5, 12, 2, 1, 17] 313\n",
      "[0, 17, 9, 6, 11, 8, 18, 1, 2, 12, 5, 3, 10, 4, 19, 16, 7, 20, 14, 15, 13, 21] 302\n",
      "22\t0.941617488861084\n",
      "[0, 7, 17, 8, 5, 18, 1, 13, 16, 6, 15, 22, 4, 20, 14, 21, 10, 3, 9, 2, 19, 11, 12] 258\n",
      "[0, 13, 3, 10, 20, 8, 5, 18, 1, 6, 16, 4, 19, 2, 9, 17, 14, 21, 12, 11, 7, 22, 15] 236\n",
      "[0, 7, 22, 15, 6, 16, 13, 3, 10, 20, 8, 17, 14, 21, 12, 11, 9, 5, 18, 1, 2, 19, 4] 224\n",
      "[0, 7, 22, 11, 12, 21, 14, 17, 9, 2, 19, 4, 1, 18, 5, 8, 20, 10, 3, 13, 16, 6, 15] 219\n",
      "[0, 7, 11, 12, 4, 19, 2, 1, 18, 5, 8, 20, 10, 3, 9, 17, 21, 14, 22, 15, 6, 16, 13] 210\n",
      "[0, 13, 16, 4, 19, 21, 14, 17, 20, 10, 3, 12, 11, 9, 2, 1, 18, 5, 8, 6, 15, 22, 7] 205\n",
      "[0, 13, 3, 10, 20, 11, 12, 21, 14, 17, 8, 5, 18, 1, 9, 2, 19, 4, 16, 6, 15, 22, 7] 188\n",
      "23\t1.0618901252746582\n"
     ]
    }
   ],
   "source": [
    "pnts_n = []\n",
    "pnts_t = []\n",
    "\n",
    "n = 12\n",
    "t0 = t1 = 0\n",
    "\n",
    "while t1-t0<1:\n",
    "    G = random_symmetric_graph(n)\n",
    "    t0 = time()\n",
    "    grasp(1000, G)\n",
    "    t1 = time ()\n",
    "    # record time\n",
    "    print( f\"{n}\\t{t1-t0}\" )\n",
    "    pnts_n.append( n )\n",
    "    pnts_t.append( t1-t0)\n",
    "    n += 1"
   ]
  },
  {
   "cell_type": "code",
   "execution_count": 28,
   "metadata": {},
   "outputs": [
    {
     "data": {
      "image/png": "[encoded data removed]",
      "text/plain": [
       "<matplotlib.figure.Figure at 0x1cae35f9400>"
      ]
     },
     "metadata": {},
     "output_type": "display_data"
    }
   ],
   "source": [
    "# Determine size of the graph\n",
    "plt.rcParams[\"figure.figsize\"] = (6,5)\n",
    "# Plot data\n",
    "plt.plot(pnts_n, pnts_t, 'ro-')\n",
    "# Label x and y axis\n",
    "plt.ylabel('time')\n",
    "plt.xlabel('cities (n)')\n",
    "# show graph\n",
    "plt.show()"
   ]
  },
  {
   "cell_type": "markdown",
   "metadata": {},
   "source": [
    "# Discussion:\n",
    "As you can see the GRASP search shows a running time of 0(n^2) which shows it grows in polynomial time"
   ]
  },
  {
   "cell_type": "markdown",
   "metadata": {},
   "source": [
    "# References"
   ]
  },
  {
   "cell_type": "markdown",
   "metadata": {},
   "source": [
    "Anh Tu, P, Tuan Dat, N., Quang Dung, P. (2018) **‘Traveling Salesman Problem with Multiple Drones’** Proceedings of the Ninth International Symposium on Information and Communication Technology [online], 46-53. Available from https://dl.acm.org/doi/abs/10.1145/3287921.3287932 [24 March 2020]"
   ]
  },
  {
   "cell_type": "markdown",
   "metadata": {},
   "source": [
    "Hamdi, K. (2014) **‘A mathematical model and a GRASP metaheuristic for a faculty-course assignment problem for a University in Saudi Arabia’** IEEE International Conference on Industrial Engineering and Engineering Management [online], 672-676. Available from https://ieeexplore.ieee.org/stamp/stamp.jsp?tp=&arnumber=7058723 [17 March 2020]"
   ]
  },
  {
   "cell_type": "markdown",
   "metadata": {},
   "source": [
    "Mersiovsky, T., Thekkottil, A., Hanne, T., Dornberger, R. (2018) **‘Optimal Learning Rate and Neighborhood Radius of Kohonen's Self-Organizing Map for Solving the Travelling Salesman Problem’** Proceedings of the 2nd International Conference on Intelligent Systems, Metaheuristics & Swarm Intelligence [online], 54-59. Available from https://dl.acm.org/doi/abs/10.1145/3206185.3206194 [3 March 2020]"
   ]
  },
  {
   "cell_type": "markdown",
   "metadata": {},
   "source": [
    "Ribeiro, C., Resende, M., (1999) **‘Algorithm 797: Fortran subroutines for approximate solution of graph planarization problems using GRASP’** ACM Transactions on Mathematical Software [online], 342-352. Available from http://www.optimization-online.org/DB_FILE/2008/07/2039.pdf [2 March 2020]"
   ]
  },
  {
   "cell_type": "markdown",
   "metadata": {},
   "source": [
    "Talbi, E., (2009) **Metaheuristics: From Design to Implementation** [online], New Jersey: John Wiley & Sons, Inc. available from <https://onlinelibrary.wiley.com/doi/book/10.1002/9780470496916> [5 March 2020]"
   ]
  },
  {
   "cell_type": "markdown",
   "metadata": {},
   "source": [
    "Wikipedia (2020) **Metaheuristic** [online] available from <https://en.wikipedia.org/wiki/Metaheuristic> [12 March 2020]"
   ]
  }
 ],
 "metadata": {
  "kernelspec": {
   "display_name": "Python 3",
   "language": "python",
   "name": "python3"
  },
  "language_info": {
   "codemirror_mode": {
    "name": "ipython",
    "version": 3
   },
   "file_extension": ".py",
   "mimetype": "text/x-python",
   "name": "python",
   "nbconvert_exporter": "python",
   "pygments_lexer": "ipython3",
   "version": "3.6.1"
  }
 },
 "nbformat": 4,
 "nbformat_minor": 2
}
