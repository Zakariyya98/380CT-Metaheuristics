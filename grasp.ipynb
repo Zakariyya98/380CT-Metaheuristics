{
 "cells": [
  {
   "cell_type": "markdown",
   "metadata": {},
   "source": [
    "# The Problem"
   ]
  },
  {
   "cell_type": "markdown",
   "metadata": {},
   "source": [
    "The Travelling Salesman Problem (TSP) is a well-studied optimization problem that has been proved to be non-deterministic NP hard problem (Mersiovsky et al., 2018). The TSP problem involves a travelling salesperson wanting to visit exactly one city in a list of cities and afterwards return to first city at the lowest cost. Metaheuristics algorithms such as Tabu search and greedy randomized adaptive search procedure (GRASP) can provide an optimized way to solve this problem. \n",
    "\n",
    "Metaheuristic algorithms provide an optimized way of solving complex problems, such as the travel salesman problem. Compared to other algorithms such as optimization algorithms and iterative methods, metaheuristics cannot guarantee a global optimal solution for some class problems (Wikipedia, n.d.).\n"
   ]
  },
  {
   "cell_type": "markdown",
   "metadata": {},
   "source": [
    "# The Graph"
   ]
  },
  {
   "cell_type": "code",
   "execution_count": 2,
   "metadata": {
    "collapsed": true
   },
   "outputs": [],
   "source": [
    "from random import randint, choice\n",
    "from pprint import pprint\n",
    "from itertools import permutations\n",
    "from math import inf as oo # Infinity (∞) is larger than any number\n",
    "from math import sqrt\n",
    "from time      import time\n",
    "import matplotlib.pyplot as plt\n",
    "import copy\n",
    "\n",
    "MAX_DISTANCE = 100\n",
    "\n",
    "def random_symmetric_graph(n):\n",
    "    ''' Symmetric adjacency matrix of size nxn '''\n",
    "    dist_matrix = [[oo for _ in range(n)] for _ in range(n)]\n",
    "    for i in range(n):\n",
    "        for j in range(i+1,n):\n",
    "            v = randint(1,MAX_DISTANCE)\n",
    "            dist_matrix[i][j] = v\n",
    "            dist_matrix[j][i] = v\n",
    "    return dist_matrix\n",
    "\n",
    "def random_euclidean_graph(n):\n",
    "    ''' Symmetric adjacency matrix of a Euclidean graph of size nxn '''\n",
    "    dist_matrix = [[oo for _ in range(n)] for _ in range(n)]\n",
    "    points = []\n",
    "    for p in range(n):\n",
    "        x,y = randint(0,MAX_DISTANCE), randint(0,MAX_DISTANCE)\n",
    "        points.append((x,y))\n",
    "    for i in range(n):\n",
    "        p1 = points[i]\n",
    "        for j in range(i+1,n):\n",
    "            p2 = points[j]\n",
    "            distance = sqrt((p1[0]-p2[0])**2+(p1[1]-p2[1])**2)\n",
    "            dist_matrix[i][j] = distance\n",
    "            dist_matrix[j][i] = distance\n",
    "    return dist_matrix\n",
    "\n",
    "def show(G):\n",
    "    ''' Show adjacency matrix. Useful for debugging. '''\n",
    "    n = len(G)\n",
    "    r = \"     \"\n",
    "    for i in range(n):\n",
    "        r += f'{i:4}'\n",
    "    r += '\\n    -'+'-'*(4*n)+'\\n'\n",
    "    for i in range(n):\n",
    "        r += f'{i:2} | '\n",
    "        for j in range(n):\n",
    "            r += f'{G[i][j]:4}'\n",
    "        r += '\\n'\n",
    "    r = r.replace('inf', '  ∞')\n",
    "    print(r)\n",
    "\n",
    "def cost(G, cycle):\n",
    "    ''' Calculate the cost of the given cycle '''\n",
    "    c = 0\n",
    "    n = len(G)\n",
    "    for i in range(n):\n",
    "        a = cycle[i]\n",
    "        b = cycle[(i+1)%n]\n",
    "        c += G[a][b]\n",
    "    return c"
   ]
  },
  {
   "cell_type": "code",
   "execution_count": 3,
   "metadata": {
    "collapsed": true
   },
   "outputs": [],
   "source": [
    "G = random_symmetric_graph(12)"
   ]
  },
  {
   "cell_type": "code",
   "execution_count": 4,
   "metadata": {},
   "outputs": [
    {
     "name": "stdout",
     "output_type": "stream",
     "text": [
      "        0   1   2   3   4   5   6   7   8   9  10  11\n",
      "    -------------------------------------------------\n",
      " 0 |    ∞   3  47  29   3  31  14  30  38   6  12   8\n",
      " 1 |    3   ∞  22  30  61  92   6  43  57  91  51  40\n",
      " 2 |   47  22   ∞  24  57  58  58  62  23  71  44  26\n",
      " 3 |   29  30  24   ∞  58  27  61  50  93  76  16  18\n",
      " 4 |    3  61  57  58   ∞  38  36  66  51  88  21  43\n",
      " 5 |   31  92  58  27  38   ∞  66   5  69   5  16  40\n",
      " 6 |   14   6  58  61  36  66   ∞   9  89  34   1  85\n",
      " 7 |   30  43  62  50  66   5   9   ∞  38  48 100  12\n",
      " 8 |   38  57  23  93  51  69  89  38   ∞  92  33  27\n",
      " 9 |    6  91  71  76  88   5  34  48  92   ∞  55  70\n",
      "10 |   12  51  44  16  21  16   1 100  33  55   ∞  70\n",
      "11 |    8  40  26  18  43  40  85  12  27  70  70   ∞\n",
      "\n"
     ]
    }
   ],
   "source": [
    "show(G)"
   ]
  },
  {
   "cell_type": "markdown",
   "metadata": {},
   "source": [
    "# Greedy Randomized Adaptive Search Procedure (GRASP)"
   ]
  },
  {
   "cell_type": "markdown",
   "metadata": {},
   "source": [
    "Pseudocode:"
   ]
  },
  {
   "cell_type": "markdown",
   "metadata": {},
   "source": [
    "**Initialization**\n",
    "<br>\n",
    "Obj(BestSoln) = 0\n",
    "<br>\n",
    "**For** For i = 1 to $n_{i}$ **do**\n",
    "<br>\n",
    "$\\quad$ H(Soln) //generate initial solution\n",
    "<br>\n",
    "$\\quad$ LS(Soln)            //apply local search\n",
    "<br>\n",
    "$\\quad$ **If** Obj(Soln) > Obj(BestSoln) **then**\n",
    "<br>\n",
    "$\\quad$$\\quad$BestSoln = Soln    //update the best solution\n",
    "<br>\n",
    "$\\quad$**End if**\n",
    "<br>\n",
    "**End for**\n",
    "<br>\n",
    "<br>\n",
    "(Hamdi, 2014)\n",
    "\n",
    "**Complexity**: 0(n2log(n)) with n being the number of cities"
   ]
  },
  {
   "cell_type": "markdown",
   "metadata": {},
   "source": [
    "GRASP is a meta-heuristic algorithm to solve combinatorial optimization problems, introduced by Feo and Resende (Anh Tu, Tuan Dat, Quang Dung, 2018). It is also recognized as a single solution-based metaheuristic which improves a single solution. This can be considered as a “walk” through neighborhoods through the search space of the problem at hand, in this case TSP problem (Talbi, 2009).\n",
    "\n",
    "During the construction phase a set of candidate solutions are generated from a current solution. The set of candidates are generated by a local search. Then comes the replacement phase which focuses on selecting a candidate solution from the set of candidates and replaces the current solution. The replacement phase is iterated multiple times until a certain criterion is achieved (Ribeiro, Resende, 199). \n",
    "\n",
    "The neighborhood is a key part of designing a solution-based algorithm. The structure of the neighborhood can have an effect on the performance of the algorithm being implemented. If the neighborhood structure is not adequate to the problem, any solution-based metaheuristic will fail to solve the problem (Talbi, 2009). \n",
    "\n",
    "The greedy local search of the GRASP meta-heuristic must be randomized in order to produce various solutions to the TSP problem. If the algorithm was not randomized, then the local search produced can only be used once to produce a solution. "
   ]
  },
  {
   "cell_type": "code",
   "execution_count": 5,
   "metadata": {
    "collapsed": true
   },
   "outputs": [],
   "source": [
    "def GreedySolution(G):\n",
    "    H = copy.deepcopy(G) # We need the original G. We work on/modify H\n",
    "    n = len(H)\n",
    "    cities = list(range(n))\n",
    "    cycle = [] # solution to be built\n",
    "    city = 0 # Start city\n",
    "    while len(cities)>0:\n",
    "        # Find nearest neighbour\n",
    "        city_neighbours = H[city]\n",
    "        if city_neighbours[1:] == city_neighbours[:-1]:\n",
    "            random_distance = oo\n",
    "        else:\n",
    "            random_distance = choice([i for i in city_neighbours if i != oo])\n",
    "        nearest_city = city_neighbours.index(random_distance)\n",
    "        # Update 'cycle' and 'cities' and H then 'city'\n",
    "        cycle.append(city)\n",
    "        cities.remove(city)\n",
    "        for i in range(n): # 'city' is not to be used again!\n",
    "            H[city][i] = oo\n",
    "            H[i][city] = oo\n",
    "        city = nearest_city\n",
    "    return (cycle)\n",
    "\n",
    "def cost_change(cost_mat, n1, n2, n3, n4):\n",
    "    return cost_mat[n1][n3] + cost_mat[n2][n4] - cost_mat[n1][n2] - cost_mat[n3][n4]\n",
    "\n",
    "def two_opt(cost_mat, route):\n",
    "    best = route\n",
    "    improved = True\n",
    "    while improved:\n",
    "        improved = False\n",
    "        for i in range(1, len(route) - 2):\n",
    "            for j in range(i + 1, len(route)):\n",
    "                if j - i == 1: continue\n",
    "                if cost_change(cost_mat, best[i - 1], best[i], best[j - 1], best[j]) < 0:\n",
    "                    best[i:j] = best[j - 1:i - 1:-1]\n",
    "                    improved = True\n",
    "        route = best\n",
    "    return best\n",
    "\n",
    "def grasp(Max_Iterations, G):\n",
    "    CurrentBest = GreedySolution(G)\n",
    "    for count in range(Max_Iterations):\n",
    "        Solution = GreedySolution(G)\n",
    "        NewSolution = two_opt(G,Solution)\n",
    "        cost(G, CurrentBest)\n",
    "        if cost(G, NewSolution) < cost(G, CurrentBest):\n",
    "            CurrentBest = NewSolution\n",
    "            print(CurrentBest, cost(G, CurrentBest))\n",
    "    return CurrentBest"
   ]
  },
  {
   "cell_type": "code",
   "execution_count": 6,
   "metadata": {},
   "outputs": [
    {
     "name": "stdout",
     "output_type": "stream",
     "text": [
      "[0, 9, 5, 7, 11, 3, 10, 6, 1, 2, 8, 4] 168\n",
      "[0, 4, 10, 3, 11, 8, 2, 1, 6, 7, 5, 9] 161\n",
      "[0, 4, 10, 3, 11, 8, 2, 1, 6, 7, 5, 9]\n"
     ]
    }
   ],
   "source": [
    "print(grasp(1000, G))"
   ]
  },
  {
   "cell_type": "code",
   "execution_count": 7,
   "metadata": {},
   "outputs": [
    {
     "name": "stdout",
     "output_type": "stream",
     "text": [
      "[0, 1, 7, 8, 2, 9, 3, 10, 4, 5, 11, 6] 197\n",
      "[0, 3, 9, 11, 6, 4, 10, 5, 2, 8, 7, 1] 153\n",
      "12\t0.31932830810546875\n",
      "[0, 10, 8, 4, 2, 1, 12, 5, 9, 11, 3, 6, 7] 350\n",
      "[0, 11, 3, 1, 12, 5, 9, 10, 8, 4, 2, 7, 6] 310\n",
      "[0, 11, 3, 1, 2, 4, 7, 6, 8, 10, 9, 5, 12] 258\n",
      "13\t0.37988710403442383\n",
      "[0, 5, 9, 6, 7, 13, 1, 2, 10, 11, 12, 8, 4, 3] 217\n",
      "[0, 7, 3, 10, 6, 9, 12, 11, 13, 1, 2, 5, 8, 4] 205\n",
      "[0, 5, 2, 10, 3, 4, 1, 13, 11, 12, 8, 9, 6, 7] 181\n",
      "[0, 5, 2, 11, 10, 3, 4, 8, 12, 9, 6, 7, 1, 13] 165\n",
      "[0, 5, 2, 10, 3, 4, 8, 12, 11, 13, 1, 7, 6, 9] 150\n",
      "[0, 5, 2, 1, 13, 11, 10, 3, 4, 8, 12, 9, 6, 7] 143\n",
      "[0, 5, 2, 11, 10, 3, 4, 8, 12, 1, 13, 7, 6, 9] 139\n",
      "14\t0.40540337562561035\n",
      "[0, 10, 8, 12, 2, 1, 5, 6, 9, 7, 3, 13, 4, 14, 11] 247\n",
      "[0, 10, 8, 4, 1, 5, 6, 13, 11, 14, 2, 12, 9, 7, 3] 232\n",
      "[0, 11, 14, 2, 3, 13, 6, 5, 1, 4, 7, 9, 12, 8, 10] 221\n",
      "[0, 9, 7, 4, 11, 14, 1, 2, 12, 8, 10, 5, 6, 13, 3] 219\n",
      "[0, 9, 7, 4, 10, 8, 12, 2, 1, 5, 6, 14, 11, 13, 3] 217\n",
      "15\t0.6341114044189453\n",
      "[0, 3, 9, 7, 14, 10, 5, 6, 2, 1, 8, 4, 15, 11, 12, 13] 276\n",
      "[0, 3, 9, 7, 14, 11, 12, 13, 8, 4, 15, 1, 10, 5, 6, 2] 187\n",
      "[0, 2, 5, 6, 1, 15, 4, 8, 13, 12, 11, 14, 10, 7, 9, 3] 181\n",
      "[0, 3, 9, 11, 12, 1, 15, 4, 8, 13, 14, 7, 10, 5, 6, 2] 180\n",
      "16\t0.5942597389221191\n",
      "[0, 6, 3, 11, 9, 1, 13, 10, 15, 8, 2, 14, 7, 16, 5, 4, 12] 390\n",
      "[0, 16, 5, 4, 12, 1, 10, 13, 14, 7, 8, 15, 2, 9, 11, 3, 6] 292\n",
      "[0, 16, 5, 4, 12, 1, 8, 15, 2, 14, 7, 10, 13, 9, 11, 3, 6] 291\n",
      "[0, 6, 3, 11, 9, 13, 10, 14, 7, 8, 15, 2, 1, 12, 4, 5, 16] 287\n",
      "17\t0.638791561126709\n",
      "[0, 5, 7, 12, 6, 11, 9, 3, 17, 16, 15, 8, 2, 13, 10, 1, 4, 14] 238\n",
      "[0, 5, 7, 12, 14, 9, 3, 17, 11, 6, 8, 2, 13, 10, 1, 4, 15, 16] 163\n",
      "[0, 7, 12, 14, 9, 3, 17, 11, 13, 2, 16, 15, 4, 1, 10, 8, 6, 5] 148\n",
      "18\t0.7559282779693604\n",
      "[0, 2, 12, 1, 6, 4, 3, 14, 15, 5, 8, 10, 16, 11, 9, 18, 17, 13, 7] 339\n",
      "[0, 10, 8, 3, 7, 5, 18, 17, 13, 11, 15, 14, 4, 16, 1, 12, 2, 6, 9] 317\n",
      "[0, 11, 16, 18, 9, 6, 1, 12, 14, 15, 5, 7, 13, 17, 10, 8, 3, 4, 2] 300\n",
      "[0, 10, 8, 17, 13, 11, 9, 18, 16, 4, 3, 7, 5, 15, 14, 12, 1, 6, 2] 275\n",
      "[0, 2, 6, 1, 12, 14, 4, 8, 10, 16, 18, 17, 13, 7, 3, 9, 5, 15, 11] 268\n",
      "[0, 10, 8, 5, 7, 13, 17, 18, 9, 3, 4, 14, 15, 11, 16, 1, 6, 2, 12] 229\n",
      "[0, 12, 1, 6, 2, 4, 16, 11, 9, 18, 17, 13, 7, 5, 15, 14, 3, 8, 10] 224\n",
      "19\t0.9160277843475342\n",
      "[0, 16, 3, 9, 14, 2, 1, 10, 4, 19, 7, 5, 17, 18, 12, 15, 6, 8, 11, 13] 295\n",
      "[0, 13, 11, 16, 3, 15, 10, 1, 2, 4, 19, 8, 6, 5, 17, 18, 12, 14, 9, 7] 259\n",
      "[0, 13, 11, 2, 1, 10, 4, 19, 8, 7, 17, 5, 6, 15, 12, 18, 16, 3, 9, 14] 235\n",
      "[0, 2, 11, 16, 3, 15, 6, 5, 17, 18, 12, 14, 9, 1, 10, 4, 19, 8, 7, 13] 227\n",
      "[0, 13, 11, 2, 1, 8, 7, 6, 5, 17, 18, 12, 14, 9, 3, 16, 19, 4, 10, 15] 226\n",
      "[0, 13, 7, 8, 6, 5, 17, 18, 12, 14, 9, 3, 15, 11, 16, 19, 4, 10, 1, 2] 199\n",
      "[0, 2, 1, 10, 4, 19, 8, 7, 17, 5, 6, 15, 12, 18, 14, 9, 3, 16, 11, 13] 196\n",
      "[0, 2, 1, 10, 4, 19, 16, 3, 9, 14, 12, 18, 17, 5, 7, 8, 6, 15, 11, 13] 189\n",
      "20\t0.8809623718261719\n",
      "[0, 2, 16, 6, 7, 14, 9, 3, 4, 15, 17, 20, 19, 1, 12, 10, 18, 8, 11, 5, 13] 253\n",
      "[0, 17, 20, 19, 1, 13, 5, 4, 10, 12, 15, 7, 14, 9, 8, 11, 18, 3, 2, 16, 6] 217\n",
      "[0, 17, 20, 19, 1, 9, 8, 18, 11, 12, 10, 13, 5, 4, 3, 2, 16, 14, 7, 15, 6] 210\n",
      "[0, 17, 20, 19, 1, 12, 10, 13, 5, 4, 15, 7, 14, 9, 8, 11, 18, 3, 2, 16, 6] 197\n",
      "[0, 6, 16, 14, 7, 15, 4, 5, 13, 10, 12, 11, 18, 8, 9, 17, 20, 19, 1, 3, 2] 178\n",
      "21\t0.9899008274078369\n",
      "[0, 7, 19, 3, 14, 20, 18, 9, 4, 1, 6, 15, 8, 16, 2, 17, 21, 11, 5, 13, 10, 12] 370\n",
      "[0, 11, 16, 20, 18, 9, 3, 19, 12, 5, 13, 8, 15, 6, 7, 2, 17, 21, 14, 10, 1, 4] 329\n",
      "[0, 7, 6, 15, 8, 13, 10, 14, 20, 18, 4, 9, 3, 19, 12, 5, 11, 16, 1, 2, 17, 21] 303\n",
      "[0, 11, 16, 1, 6, 7, 15, 21, 17, 2, 10, 8, 13, 5, 12, 19, 3, 14, 20, 18, 9, 4] 297\n",
      "[0, 11, 21, 17, 2, 12, 19, 3, 14, 10, 8, 13, 5, 9, 4, 18, 20, 16, 1, 6, 15, 7] 292\n",
      "[0, 7, 15, 6, 1, 4, 9, 3, 19, 12, 5, 13, 8, 16, 11, 21, 17, 2, 10, 14, 20, 18] 281\n",
      "[0, 5, 13, 8, 15, 6, 1, 16, 11, 21, 17, 2, 10, 14, 20, 18, 4, 9, 3, 19, 12, 7] 275\n",
      "[0, 7, 15, 6, 1, 16, 8, 13, 5, 11, 21, 17, 2, 10, 12, 19, 3, 14, 20, 18, 9, 4] 274\n",
      "[0, 7, 15, 6, 1, 16, 8, 13, 5, 12, 19, 3, 9, 4, 18, 20, 14, 10, 2, 17, 21, 11] 267\n",
      "22\t1.106198787689209\n"
     ]
    }
   ],
   "source": [
    "pnts_n = []\n",
    "pnts_t = []\n",
    "\n",
    "n = 12\n",
    "t0 = t1 = 0\n",
    "\n",
    "while t1-t0<1:\n",
    "    G = random_symmetric_graph(n)\n",
    "    t0 = time()\n",
    "    grasp(1000, G)\n",
    "    t1 = time ()\n",
    "    # record time\n",
    "    print( f\"{n}\\t{t1-t0}\" )\n",
    "    pnts_n.append( n )\n",
    "    pnts_t.append( t1-t0)\n",
    "    n += 1"
   ]
  },
  {
   "cell_type": "code",
   "execution_count": 8,
   "metadata": {},
   "outputs": [
    {
     "data": {
      "image/png": "[encoded data removed]",
      "text/plain": [
       "<matplotlib.figure.Figure at 0x1242407da20>"
      ]
     },
     "metadata": {},
     "output_type": "display_data"
    }
   ],
   "source": [
    "# Determine size of the graph\n",
    "plt.rcParams[\"figure.figsize\"] = (6,5)\n",
    "# Plot data\n",
    "plt.plot(pnts_n, pnts_t, 'ro-')\n",
    "# Label x and y axis\n",
    "plt.ylabel('time')\n",
    "plt.xlabel('cities (n)')\n",
    "# show graph\n",
    "plt.show()"
   ]
  },
  {
   "cell_type": "markdown",
   "metadata": {},
   "source": [
    "# Discussion:\n",
    "As you can see the GRASP search shows a running time of 0(n^2) which shows it grows in polynomial time"
   ]
  },
  {
   "cell_type": "markdown",
   "metadata": {},
   "source": [
    "# References"
   ]
  },
  {
   "cell_type": "markdown",
   "metadata": {},
   "source": [
    "Anh Tu, P, Tuan Dat, N., Quang Dung, P. (2018) **‘Traveling Salesman Problem with Multiple Drones’** Proceedings of the Ninth International Symposium on Information and Communication Technology [online], 46-53. Available from https://dl.acm.org/doi/abs/10.1145/3287921.3287932 [24 March 2020]"
   ]
  },
  {
   "cell_type": "markdown",
   "metadata": {},
   "source": [
    "Hamdi, K. (2014) **‘A mathematical model and a GRASP metaheuristic for a faculty-course assignment problem for a University in Saudi Arabia’** IEEE International Conference on Industrial Engineering and Engineering Management [online], 672-676. Available from https://ieeexplore.ieee.org/stamp/stamp.jsp?tp=&arnumber=7058723 [17 March 2020]"
   ]
  },
  {
   "cell_type": "markdown",
   "metadata": {},
   "source": [
    "Mersiovsky, T., Thekkottil, A., Hanne, T., Dornberger, R. (2018) **‘Optimal Learning Rate and Neighborhood Radius of Kohonen's Self-Organizing Map for Solving the Travelling Salesman Problem’** Proceedings of the 2nd International Conference on Intelligent Systems, Metaheuristics & Swarm Intelligence [online], 54-59. Available from https://dl.acm.org/doi/abs/10.1145/3206185.3206194 [3 March 2020]"
   ]
  },
  {
   "cell_type": "markdown",
   "metadata": {},
   "source": [
    "Ribeiro, C., Resende, M., (1999) **‘Algorithm 797: Fortran subroutines for approximate solution of graph planarization problems using GRASP’** ACM Transactions on Mathematical Software [online], 342-352. Available from http://www.optimization-online.org/DB_FILE/2008/07/2039.pdf [2 March 2020]"
   ]
  },
  {
   "cell_type": "markdown",
   "metadata": {},
   "source": [
    "Talbi, E., (2009) **Metaheuristics: From Design to Implementation** [online], New Jersey: John Wiley & Sons, Inc. available from <https://onlinelibrary.wiley.com/doi/book/10.1002/9780470496916> [5 March 2020]"
   ]
  },
  {
   "cell_type": "markdown",
   "metadata": {},
   "source": [
    "Wikipedia (2020) **Metaheuristic** [online] available from <https://en.wikipedia.org/wiki/Metaheuristic> [12 March 2020]"
   ]
  }
 ],
 "metadata": {
  "kernelspec": {
   "display_name": "Python 3",
   "language": "python",
   "name": "python3"
  },
  "language_info": {
   "codemirror_mode": {
    "name": "ipython",
    "version": 3
   },
   "file_extension": ".py",
   "mimetype": "text/x-python",
   "name": "python",
   "nbconvert_exporter": "python",
   "pygments_lexer": "ipython3",
   "version": "3.6.1"
  }
 },
 "nbformat": 4,
 "nbformat_minor": 2
}
