{
 "cells": [
  {
   "cell_type": "markdown",
   "metadata": {},
   "source": [
    "# The Problem"
   ]
  },
  {
   "cell_type": "markdown",
   "metadata": {},
   "source": [
    "The Travelling Salesman Problem (TSP) is a well-studied optimization problem that has been proved to be non-deterministic NP hard problem (Mersiovsky et al., 2018). The TSP problem involves a travelling salesperson wanting to visit exactly one city in a list of cities and afterwards return to first city at the lowest cost. Metaheuristics algorithms such as Tabu search and greedy randomized adaptive search procedure (GRASP) can provide an optimized way to solve this problem. \n",
    "\n",
    "Metaheuristic algorithms provide an optimized way of solving complex problems, such as the travel salesman problem. Compared to other algorithms such as optimization algorithms and iterative methods, metaheuristics cannot guarantee a global optimal solution for some class problems (Wikipedia, n.d.).\n"
   ]
  },
  {
   "cell_type": "markdown",
   "metadata": {},
   "source": [
    "# The Graph"
   ]
  },
  {
   "cell_type": "code",
   "execution_count": 1,
   "metadata": {},
   "outputs": [],
   "source": [
    "from random import randint, choice\n",
    "from pprint import pprint\n",
    "from itertools import permutations\n",
    "from math import inf as oo # Infinity (∞) is larger than any number\n",
    "from math import sqrt\n",
    "from time      import time\n",
    "import matplotlib.pyplot as plt\n",
    "import copy\n",
    "\n",
    "MAX_DISTANCE = 100\n",
    "\n",
    "def random_symmetric_graph(n):\n",
    "    ''' Symmetric adjacency matrix of size nxn '''\n",
    "    dist_matrix = [[oo for _ in range(n)] for _ in range(n)]\n",
    "    for i in range(n):\n",
    "        for j in range(i+1,n):\n",
    "            v = randint(1,MAX_DISTANCE)\n",
    "            dist_matrix[i][j] = v\n",
    "            dist_matrix[j][i] = v\n",
    "    return dist_matrix\n",
    "\n",
    "def random_euclidean_graph(n):\n",
    "    ''' Symmetric adjacency matrix of a Euclidean graph of size nxn '''\n",
    "    dist_matrix = [[oo for _ in range(n)] for _ in range(n)]\n",
    "    points = []\n",
    "    for p in range(n):\n",
    "        x,y = randint(0,MAX_DISTANCE), randint(0,MAX_DISTANCE)\n",
    "        points.append((x,y))\n",
    "    for i in range(n):\n",
    "        p1 = points[i]\n",
    "        for j in range(i+1,n):\n",
    "            p2 = points[j]\n",
    "            distance = sqrt((p1[0]-p2[0])**2+(p1[1]-p2[1])**2)\n",
    "            dist_matrix[i][j] = distance\n",
    "            dist_matrix[j][i] = distance\n",
    "    return dist_matrix\n",
    "\n",
    "def show(G):\n",
    "    ''' Show adjacency matrix. Useful for debugging. '''\n",
    "    n = len(G)\n",
    "    r = \"     \"\n",
    "    for i in range(n):\n",
    "        r += f'{i:4}'\n",
    "    r += '\\n    -'+'-'*(4*n)+'\\n'\n",
    "    for i in range(n):\n",
    "        r += f'{i:2} | '\n",
    "        for j in range(n):\n",
    "            r += f'{G[i][j]:4}'\n",
    "        r += '\\n'\n",
    "    r = r.replace('inf', '  ∞')\n",
    "    print(r)\n",
    "\n",
    "def cost(G, cycle):\n",
    "    ''' Calculate the cost of the given cycle '''\n",
    "    c = 0\n",
    "    n = len(G)\n",
    "    for i in range(n):\n",
    "        a = cycle[i]\n",
    "        b = cycle[(i+1)%n]\n",
    "        c += G[a][b]\n",
    "    return c"
   ]
  },
  {
   "cell_type": "code",
   "execution_count": 2,
   "metadata": {},
   "outputs": [],
   "source": [
    "G = random_symmetric_graph(12)"
   ]
  },
  {
   "cell_type": "code",
   "execution_count": 3,
   "metadata": {},
   "outputs": [
    {
     "name": "stdout",
     "output_type": "stream",
     "text": [
      "        0   1   2   3   4   5   6   7   8   9  10  11\n",
      "    -------------------------------------------------\n",
      " 0 |    ∞  41  46  45 100  20  95  61  58  43  26   9\n",
      " 1 |   41   ∞   2  58  37  14  89   4  26  87  20  27\n",
      " 2 |   46   2   ∞  11  99  11  90  13  32  48  29  16\n",
      " 3 |   45  58  11   ∞  51  34  74  78  92  13  79  20\n",
      " 4 |  100  37  99  51   ∞  84  68  83   5  13  91  25\n",
      " 5 |   20  14  11  34  84   ∞  94  67   2  20  13  52\n",
      " 6 |   95  89  90  74  68  94   ∞  57  51  87  72  31\n",
      " 7 |   61   4  13  78  83  67  57   ∞  78  37  97  97\n",
      " 8 |   58  26  32  92   5   2  51  78   ∞  85  18  16\n",
      " 9 |   43  87  48  13  13  20  87  37  85   ∞  85  68\n",
      "10 |   26  20  29  79  91  13  72  97  18  85   ∞  63\n",
      "11 |    9  27  16  20  25  52  31  97  16  68  63   ∞\n",
      "\n"
     ]
    }
   ],
   "source": [
    "show(G)"
   ]
  },
  {
   "cell_type": "markdown",
   "metadata": {},
   "source": [
    "# Greedy Randomized Adaptive Search Procedure (GRASP)"
   ]
  },
  {
   "cell_type": "markdown",
   "metadata": {},
   "source": [
    "Pseudocode:"
   ]
  },
  {
   "cell_type": "markdown",
   "metadata": {},
   "source": [
    "**Initialization**\n",
    "<br>\n",
    "Obj(BestSoln) = 0\n",
    "<br>\n",
    "**For** For i = 1 to $n_{i}$ **do**\n",
    "<br>\n",
    "$\\quad$ H(Soln) //generate initial solution\n",
    "<br>\n",
    "$\\quad$ LS(Soln)            //apply local search\n",
    "<br>\n",
    "$\\quad$ **If** Obj(Soln) > Obj(BestSoln) **then**\n",
    "<br>\n",
    "$\\quad$$\\quad$BestSoln = Soln    //update the best solution\n",
    "<br>\n",
    "$\\quad$**End if**\n",
    "<br>\n",
    "**End for**\n",
    "<br>\n",
    "<br>\n",
    "(Hamdi, 2014)\n",
    "\n",
    "**Complexity**: 0(n2log(n)) with n being the number of cities"
   ]
  },
  {
   "cell_type": "markdown",
   "metadata": {},
   "source": [
    "GRASP is a meta-heuristic algorithm to solve combinatorial optimization problems, introduced by Feo and Resende (Anh Tu, Tuan Dat, Quang Dung, 2018). It is also recognized as a single solution-based metaheuristic which improves a single solution. This can be considered as a “walk” through neighborhoods through the search space of the problem at hand, in this case TSP problem (Talbi, 2009).\n",
    "\n",
    "During the construction phase a set of candidate solutions are generated from a current solution. The set of candidates are generated by a local search. Then comes the replacement phase which focuses on selecting a candidate solution from the set of candidates and replaces the current solution. The replacement phase is iterated multiple times until a certain criterion is achieved (Ribeiro, Resende, 199). \n",
    "\n",
    "The neighborhood is a key part of designing a solution-based algorithm. The structure of the neighborhood can have an effect on the performance of the algorithm being implemented. If the neighborhood structure is not adequate to the problem, any solution-based metaheuristic will fail to solve the problem (Talbi, 2009). \n",
    "\n",
    "The greedy local search of the GRASP meta-heuristic must be randomized in order to produce various solutions to the TSP problem. If the algorithm was not randomized, then the local search produced can only be used once to produce a solution. "
   ]
  },
  {
   "cell_type": "code",
   "execution_count": 4,
   "metadata": {},
   "outputs": [],
   "source": [
    "def GreedySolution(G):\n",
    "    H = copy.deepcopy(G) # We need the original G. We work on/modify H\n",
    "    n = len(H)\n",
    "    cities = list(range(n))\n",
    "    cycle = [] # solution to be built\n",
    "    city = 0 # Start city\n",
    "    while len(cities)>0:\n",
    "        # Find nearest neighbour\n",
    "        city_neighbours = H[city]\n",
    "        if city_neighbours[1:] == city_neighbours[:-1]:\n",
    "            random_distance = oo\n",
    "        else:\n",
    "            random_distance = choice([i for i in city_neighbours if i != oo])\n",
    "        nearest_city = city_neighbours.index(random_distance)\n",
    "        # Update 'cycle' and 'cities' and H then 'city'\n",
    "        cycle.append(city)\n",
    "        cities.remove(city)\n",
    "        for i in range(n): # 'city' is not to be used again!\n",
    "            H[city][i] = oo\n",
    "            H[i][city] = oo\n",
    "        city = nearest_city\n",
    "    return (cycle)\n",
    "\n",
    "def cost_change(cost_mat, n1, n2, n3, n4):\n",
    "    return cost_mat[n1][n3] + cost_mat[n2][n4] - cost_mat[n1][n2] - cost_mat[n3][n4]\n",
    "\n",
    "def two_opt(cost_mat, route):\n",
    "    best = route\n",
    "    improved = True\n",
    "    while improved:\n",
    "        improved = False\n",
    "        for i in range(1, len(route) - 2):\n",
    "            for j in range(i + 1, len(route)):\n",
    "                if j - i == 1: continue\n",
    "                if cost_change(cost_mat, best[i - 1], best[i], best[j - 1], best[j]) < 0:\n",
    "                    best[i:j] = best[j - 1:i - 1:-1]\n",
    "                    improved = True\n",
    "        route = best\n",
    "    return best\n",
    "\n",
    "def grasp(Max_Iterations, G):\n",
    "    CurrentBest = GreedySolution(G)\n",
    "    for count in range(Max_Iterations):\n",
    "        Solution = GreedySolution(G)\n",
    "        NewSolution = two_opt(G,Solution)\n",
    "        cost(G, CurrentBest)\n",
    "        if cost(G, NewSolution) < cost(G, CurrentBest):\n",
    "            CurrentBest = NewSolution\n",
    "            print(CurrentBest, cost(G, CurrentBest))\n",
    "    return CurrentBest"
   ]
  },
  {
   "cell_type": "code",
   "execution_count": 5,
   "metadata": {},
   "outputs": [
    {
     "name": "stdout",
     "output_type": "stream",
     "text": [
      "[0, 10, 5, 2, 1, 7, 9, 3, 11, 6, 8, 4] 313\n",
      "[0, 10, 5, 8, 4, 6, 7, 1, 2, 11, 3, 9] 269\n",
      "[0, 11, 6, 3, 9, 4, 8, 5, 2, 7, 1, 10] 221\n",
      "[0, 11, 6, 7, 1, 2, 3, 9, 4, 8, 5, 10] 186\n",
      "[0, 11, 6, 7, 1, 2, 3, 9, 4, 8, 5, 10]\n"
     ]
    }
   ],
   "source": [
    "print(grasp(1000, G))"
   ]
  },
  {
   "cell_type": "code",
   "execution_count": 6,
   "metadata": {},
   "outputs": [
    {
     "name": "stdout",
     "output_type": "stream",
     "text": [
      "3\t0.04492640495300293\n",
      "[0, 2, 3, 1] 262\n",
      "[0, 3, 1, 2] 257\n",
      "4\t0.06037640571594238\n",
      "[0, 4, 1, 2, 3] 158\n",
      "[0, 2, 3, 1, 4] 117\n",
      "5\t0.046863555908203125\n",
      "[0, 4, 1, 3, 5, 2] 227\n",
      "[0, 1, 4, 2, 5, 3] 162\n",
      "6\t0.12236905097961426\n",
      "[0, 3, 6, 1, 4, 5, 2] 110\n",
      "7\t0.14695143699645996\n",
      "[0, 6, 4, 1, 3, 7, 2, 5] 302\n",
      "[0, 7, 2, 5, 3, 1, 4, 6] 219\n",
      "8\t0.1532731056213379\n",
      "[0, 3, 4, 7, 1, 8, 6, 2, 5] 252\n",
      "9\t0.1736593246459961\n",
      "[0, 3, 5, 7, 2, 9, 8, 6, 1, 4] 311\n",
      "[0, 3, 5, 7, 1, 4, 9, 2, 8, 6] 232\n",
      "[0, 3, 1, 4, 9, 2, 8, 6, 7, 5] 228\n",
      "[0, 9, 2, 8, 6, 7, 1, 4, 5, 3] 207\n",
      "[0, 3, 5, 7, 6, 8, 2, 9, 4, 1] 188\n",
      "10\t0.21453309059143066\n",
      "[0, 2, 8, 9, 5, 1, 4, 7, 6, 3, 10] 273\n",
      "[0, 6, 3, 2, 4, 1, 8, 9, 5, 7, 10] 244\n",
      "11\t0.27787041664123535\n",
      "[0, 2, 4, 8, 5, 3, 10, 11, 1, 6, 7, 9] 339\n",
      "[0, 11, 10, 6, 1, 9, 3, 5, 8, 7, 4, 2] 300\n",
      "[0, 3, 9, 7, 4, 2, 5, 8, 6, 1, 11, 10] 282\n",
      "12\t0.35509371757507324\n",
      "[0, 5, 3, 2, 11, 4, 10, 8, 1, 6, 12, 9, 7] 331\n",
      "[0, 3, 5, 11, 4, 10, 8, 2, 12, 6, 9, 7, 1] 252\n",
      "[0, 5, 11, 4, 10, 7, 9, 12, 6, 1, 8, 2, 3] 234\n",
      "13\t0.5477027893066406\n",
      "[0, 12, 10, 4, 6, 13, 8, 3, 1, 7, 2, 5, 11, 9] 232\n",
      "[0, 2, 7, 1, 3, 8, 4, 10, 12, 6, 13, 9, 11, 5] 226\n",
      "[0, 12, 10, 4, 6, 13, 8, 3, 1, 7, 2, 9, 11, 5] 175\n",
      "14\t0.6498806476593018\n",
      "[0, 5, 11, 14, 13, 8, 7, 9, 6, 2, 10, 12, 1, 3, 4] 427\n",
      "[0, 9, 6, 2, 5, 8, 13, 7, 10, 12, 1, 3, 4, 14, 11] 381\n",
      "[0, 1, 10, 12, 4, 7, 2, 5, 11, 3, 9, 6, 14, 13, 8] 371\n",
      "[0, 9, 6, 10, 12, 1, 3, 4, 14, 11, 5, 2, 13, 8, 7] 329\n",
      "[0, 9, 6, 10, 7, 2, 3, 1, 12, 4, 8, 13, 14, 11, 5] 300\n",
      "[0, 9, 6, 2, 5, 11, 14, 13, 8, 7, 10, 12, 4, 3, 1] 295\n",
      "[0, 9, 6, 10, 2, 3, 1, 12, 4, 7, 8, 13, 14, 11, 5] 291\n",
      "[0, 9, 6, 1, 3, 2, 5, 11, 14, 13, 8, 7, 4, 12, 10] 288\n",
      "[0, 1, 3, 12, 4, 7, 8, 13, 14, 11, 5, 2, 10, 6, 9] 285\n",
      "15\t0.7726345062255859\n",
      "[0, 7, 13, 11, 1, 10, 5, 6, 15, 3, 12, 4, 2, 9, 14, 8] 289\n",
      "[0, 12, 4, 2, 9, 1, 5, 6, 15, 11, 8, 14, 3, 10, 13, 7] 189\n",
      "[0, 7, 13, 10, 5, 2, 4, 12, 3, 8, 14, 9, 1, 11, 15, 6] 167\n",
      "[0, 12, 4, 2, 5, 6, 15, 11, 1, 9, 14, 8, 3, 10, 13, 7] 147\n",
      "16\t0.8197526931762695\n",
      "[0, 12, 16, 3, 11, 14, 13, 10, 2, 6, 9, 1, 15, 4, 7, 5, 8] 334\n",
      "[0, 12, 16, 11, 3, 1, 6, 9, 4, 14, 13, 5, 8, 15, 10, 2, 7] 249\n",
      "[0, 15, 10, 2, 7, 13, 14, 4, 9, 1, 3, 5, 8, 11, 16, 12, 6] 211\n",
      "[0, 12, 16, 11, 3, 5, 8, 10, 2, 7, 13, 14, 4, 9, 6, 1, 15] 198\n",
      "[0, 12, 16, 11, 3, 5, 8, 15, 10, 2, 7, 13, 14, 4, 9, 1, 6] 197\n",
      "17\t1.434075117111206\n"
     ]
    }
   ],
   "source": [
    "pnts_n = []\n",
    "pnts_t = []\n",
    "\n",
    "n = 3\n",
    "t0 = t1 = 0\n",
    "\n",
    "while t1-t0<1:\n",
    "    G = random_symmetric_graph(n)\n",
    "    t0 = time()\n",
    "    grasp(1000, G)\n",
    "    t1 = time ()\n",
    "    # record time\n",
    "    print( f\"{n}\\t{t1-t0}\" )\n",
    "    pnts_n.append( n )\n",
    "    pnts_t.append( t1-t0)\n",
    "    n += 1"
   ]
  },
  {
   "cell_type": "code",
   "execution_count": 7,
   "metadata": {},
   "outputs": [
    {
     "data": {
      "image/png": "[encoded data removed]",
      "text/plain": [
       "<Figure size 432x360 with 1 Axes>"
      ]
     },
     "metadata": {
      "needs_background": "light"
     },
     "output_type": "display_data"
    }
   ],
   "source": [
    "# Determine size of the graph\n",
    "plt.rcParams[\"figure.figsize\"] = (6,5)\n",
    "# Plot data\n",
    "plt.plot(pnts_n, pnts_t, 'ro-')\n",
    "# Label x and y axis\n",
    "plt.ylabel('time')\n",
    "plt.xlabel('cities (n)')\n",
    "# show graph\n",
    "plt.show()"
   ]
  },
  {
   "cell_type": "markdown",
   "metadata": {},
   "source": [
    "# Discussion:\n",
    "As you can see the GRASP search shows a running time of 0(n^2) which shows it grows in polynomial time"
   ]
  },
  {
   "cell_type": "markdown",
   "metadata": {},
   "source": [
    "# References"
   ]
  },
  {
   "cell_type": "markdown",
   "metadata": {},
   "source": [
    "Anh Tu, P, Tuan Dat, N., Quang Dung, P. (2018) **‘Traveling Salesman Problem with Multiple Drones’** Proceedings of the Ninth International Symposium on Information and Communication Technology [online], 46-53. Available from https://dl.acm.org/doi/abs/10.1145/3287921.3287932 [24 March 2020]"
   ]
  },
  {
   "cell_type": "markdown",
   "metadata": {},
   "source": [
    "Hamdi, K. (2014) **‘A mathematical model and a GRASP metaheuristic for a faculty-course assignment problem for a University in Saudi Arabia’** IEEE International Conference on Industrial Engineering and Engineering Management [online], 672-676. Available from https://ieeexplore.ieee.org/stamp/stamp.jsp?tp=&arnumber=7058723 [17 March 2020]"
   ]
  },
  {
   "cell_type": "markdown",
   "metadata": {},
   "source": [
    "Mersiovsky, T., Thekkottil, A., Hanne, T., Dornberger, R. (2018) **‘Optimal Learning Rate and Neighborhood Radius of Kohonen's Self-Organizing Map for Solving the Travelling Salesman Problem’** Proceedings of the 2nd International Conference on Intelligent Systems, Metaheuristics & Swarm Intelligence [online], 54-59. Available from https://dl.acm.org/doi/abs/10.1145/3206185.3206194 [3 March 2020]"
   ]
  },
  {
   "cell_type": "markdown",
   "metadata": {},
   "source": [
    "Ribeiro, C., Resende, M., (1999) **‘Algorithm 797: Fortran subroutines for approximate solution of graph planarization problems using GRASP’** ACM Transactions on Mathematical Software [online], 342-352. Available from http://www.optimization-online.org/DB_FILE/2008/07/2039.pdf [2 March 2020]"
   ]
  },
  {
   "cell_type": "markdown",
   "metadata": {},
   "source": [
    "Talbi, E., (2009) **Metaheuristics: From Design to Implementation** [online], New Jersey: John Wiley & Sons, Inc. available from <https://onlinelibrary.wiley.com/doi/book/10.1002/9780470496916> [5 March 2020]"
   ]
  },
  {
   "cell_type": "markdown",
   "metadata": {},
   "source": [
    "Wikipedia (2020) **Metaheuristic** [online] available from <https://en.wikipedia.org/wiki/Metaheuristic> [12 March 2020]"
   ]
  }
 ],
 "metadata": {
  "kernelspec": {
   "display_name": "Python 3",
   "language": "python",
   "name": "python3"
  },
  "language_info": {
   "codemirror_mode": {
    "name": "ipython",
    "version": 3
   },
   "file_extension": ".py",
   "mimetype": "text/x-python",
   "name": "python",
   "nbconvert_exporter": "python",
   "pygments_lexer": "ipython3",
   "version": "3.7.4"
  }
 },
 "nbformat": 4,
 "nbformat_minor": 2
}
