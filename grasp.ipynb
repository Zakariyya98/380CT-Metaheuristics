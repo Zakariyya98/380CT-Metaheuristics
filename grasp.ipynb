{
 "cells": [
  {
   "cell_type": "markdown",
   "metadata": {},
   "source": [
    "# The Problem"
   ]
  },
  {
   "cell_type": "markdown",
   "metadata": {},
   "source": [
    "The Travelling Salesman Problem (TSP) is a well-studied optimization problem that has been proved to be non-deterministic NP hard problem (Mersiovsky et al., 2018). The TSP problem involves a travelling salesperson wanting to visit exactly one city in a list of cities and afterwards return to first city at the lowest cost. Metaheuristics algorithms such as Tabu search and greedy randomized adaptive search procedure (GRASP) can provide an optimized way to solve this problem. \n",
    "\n",
    "Metaheuristic algorithms provide an optimized way of solving complex problems, such as the travel salesman problem. Compared to other algorithms such as optimization algorithms and iterative methods, metaheuristics cannot guarantee a global optimal solution for some class problems (Wikipedia, n.d.).\n"
   ]
  },
  {
   "cell_type": "markdown",
   "metadata": {},
   "source": [
    "# The Graph"
   ]
  },
  {
   "cell_type": "code",
   "execution_count": 1,
   "metadata": {},
   "outputs": [],
   "source": [
    "from random import randint, choice\n",
    "from pprint import pprint\n",
    "from itertools import permutations\n",
    "from math import inf as oo # Infinity (∞) is larger than any number\n",
    "from math import sqrt\n",
    "from time      import time\n",
    "import matplotlib.pyplot as plt\n",
    "import copy\n",
    "\n",
    "MAX_DISTANCE = 100\n",
    "\n",
    "def random_symmetric_graph(n):\n",
    "    ''' Symmetric adjacency matrix of size nxn '''\n",
    "    dist_matrix = [[oo for _ in range(n)] for _ in range(n)]\n",
    "    for i in range(n):\n",
    "        for j in range(i+1,n):\n",
    "            v = randint(1,MAX_DISTANCE)\n",
    "            dist_matrix[i][j] = v\n",
    "            dist_matrix[j][i] = v\n",
    "    return dist_matrix\n",
    "\n",
    "def random_euclidean_graph(n):\n",
    "    ''' Symmetric adjacency matrix of a Euclidean graph of size nxn '''\n",
    "    dist_matrix = [[oo for _ in range(n)] for _ in range(n)]\n",
    "    points = []\n",
    "    for p in range(n):\n",
    "        x,y = randint(0,MAX_DISTANCE), randint(0,MAX_DISTANCE)\n",
    "        points.append((x,y))\n",
    "    for i in range(n):\n",
    "        p1 = points[i]\n",
    "        for j in range(i+1,n):\n",
    "            p2 = points[j]\n",
    "            distance = sqrt((p1[0]-p2[0])**2+(p1[1]-p2[1])**2)\n",
    "            dist_matrix[i][j] = distance\n",
    "            dist_matrix[j][i] = distance\n",
    "    return dist_matrix\n",
    "\n",
    "def show(G):\n",
    "    ''' Show adjacency matrix. Useful for debugging. '''\n",
    "    n = len(G)\n",
    "    r = \"     \"\n",
    "    for i in range(n):\n",
    "        r += f'{i:4}'\n",
    "    r += '\\n    -'+'-'*(4*n)+'\\n'\n",
    "    for i in range(n):\n",
    "        r += f'{i:2} | '\n",
    "        for j in range(n):\n",
    "            r += f'{G[i][j]:4}'\n",
    "        r += '\\n'\n",
    "    r = r.replace('inf', '  ∞')\n",
    "    print(r)\n",
    "\n",
    "def cost(G, cycle):\n",
    "    ''' Calculate the cost of the given cycle '''\n",
    "    c = 0\n",
    "    n = len(G)\n",
    "    for i in range(n):\n",
    "        a = cycle[i]\n",
    "        b = cycle[(i+1)%n]\n",
    "        c += G[a][b]\n",
    "    return c"
   ]
  },
  {
   "cell_type": "code",
   "execution_count": 2,
   "metadata": {},
   "outputs": [],
   "source": [
    "G = random_symmetric_graph(12)"
   ]
  },
  {
   "cell_type": "code",
   "execution_count": 3,
   "metadata": {},
   "outputs": [
    {
     "name": "stdout",
     "output_type": "stream",
     "text": [
      "        0   1   2   3   4   5   6   7   8   9  10  11\n",
      "    -------------------------------------------------\n",
      " 0 |    ∞  63  60  17  42  80  59  33  62  52   3  73\n",
      " 1 |   63   ∞  92   4  54   6  70  39  93  80  66  72\n",
      " 2 |   60  92   ∞  65  36  83   6  86  50  10  47  69\n",
      " 3 |   17   4  65   ∞  78  97  93  33  49   7  42  66\n",
      " 4 |   42  54  36  78   ∞  85  12  14  99  82  94  78\n",
      " 5 |   80   6  83  97  85   ∞  49  31  44  45  38  15\n",
      " 6 |   59  70   6  93  12  49   ∞  94  32  44  33  93\n",
      " 7 |   33  39  86  33  14  31  94   ∞  94  28  38  65\n",
      " 8 |   62  93  50  49  99  44  32  94   ∞  77  96   5\n",
      " 9 |   52  80  10   7  82  45  44  28  77   ∞  45  33\n",
      "10 |    3  66  47  42  94  38  33  38  96  45   ∞  83\n",
      "11 |   73  72  69  66  78  15  93  65   5  33  83   ∞\n",
      "\n"
     ]
    }
   ],
   "source": [
    "show(G)"
   ]
  },
  {
   "cell_type": "markdown",
   "metadata": {},
   "source": [
    "# Greedy Randomized Adaptive Search Procedure (GRASP)"
   ]
  },
  {
   "cell_type": "markdown",
   "metadata": {},
   "source": [
    "Pseudocode:"
   ]
  },
  {
   "cell_type": "markdown",
   "metadata": {},
   "source": [
    "**Initialization**\n",
    "<br>\n",
    "Obj(BestSoln) = 0\n",
    "<br>\n",
    "**For** For i = 1 to $n_{i}$ **do**\n",
    "<br>\n",
    "$\\quad$ H(Soln) //generate initial solution\n",
    "<br>\n",
    "$\\quad$ LS(Soln)            //apply local search\n",
    "<br>\n",
    "$\\quad$ **If** Obj(Soln) > Obj(BestSoln) **then**\n",
    "<br>\n",
    "$\\quad$$\\quad$BestSoln = Soln    //update the best solution\n",
    "<br>\n",
    "$\\quad$**End if**\n",
    "<br>\n",
    "**End for**\n",
    "<br>\n",
    "<br>\n",
    "(Hamdi, 2014)\n",
    "\n",
    "**Complexity**: 0(n2log(n)) with n being the number of cities"
   ]
  },
  {
   "cell_type": "markdown",
   "metadata": {},
   "source": [
    "GRASP is a meta-heuristic algorithm to solve combinatorial optimization problems, introduced by Feo and Resende (Anh Tu, Tuan Dat, Quang Dung, 2018). It is also recognized as a single solution-based metaheuristic which improves a single solution. This can be considered as a “walk” through neighborhoods through the search space of the problem at hand, in this case TSP problem (Talbi, 2009).\n",
    "\n",
    "During the construction phase a set of candidate solutions are generated from a current solution. The set of candidates are generated by a local search. Then comes the replacement phase which focuses on selecting a candidate solution from the set of candidates and replaces the current solution. The replacement phase is iterated multiple times until a certain criterion is achieved (Ribeiro, Resende, 199). \n",
    "\n",
    "The neighborhood is a key part of designing a solution-based algorithm. The structure of the neighborhood can have an effect on the performance of the algorithm being implemented. If the neighborhood structure is not adequate to the problem, any solution-based metaheuristic will fail to solve the problem (Talbi, 2009). \n",
    "\n",
    "The greedy local search of the GRASP meta-heuristic must be randomized in order to produce various solutions to the TSP problem. If the algorithm was not randomized, then the local search produced can only be used once to produce a solution. "
   ]
  },
  {
   "cell_type": "code",
   "execution_count": 4,
   "metadata": {},
   "outputs": [],
   "source": [
    "def GreedySolution(G):\n",
    "    H = copy.deepcopy(G) # We need the original G. We work on/modify H\n",
    "    n = len(H)\n",
    "    cities = list(range(n))\n",
    "    cycle = [] # solution to be built\n",
    "    city = 0 # Start city\n",
    "    while len(cities)>0:\n",
    "        # Find nearest neighbour\n",
    "        city_neighbours = H[city]\n",
    "        if city_neighbours[1:] == city_neighbours[:-1]:\n",
    "            random_distance = oo\n",
    "        else:\n",
    "            random_distance = choice([i for i in city_neighbours if i != oo])\n",
    "        nearest_city = city_neighbours.index(random_distance)\n",
    "        # Update 'cycle' and 'cities' and H then 'city'\n",
    "        cycle.append(city)\n",
    "        cities.remove(city)\n",
    "        for i in range(n): # 'city' is not to be used again!\n",
    "            H[city][i] = oo\n",
    "            H[i][city] = oo\n",
    "        city = nearest_city\n",
    "    return (cycle)\n",
    "\n",
    "def cost_change(cost_mat, n1, n2, n3, n4):\n",
    "    return cost_mat[n1][n3] + cost_mat[n2][n4] - cost_mat[n1][n2] - cost_mat[n3][n4]\n",
    "\n",
    "def two_opt(cost_mat, route):\n",
    "    best = route\n",
    "    improved = True\n",
    "    while improved:\n",
    "        improved = False\n",
    "        for i in range(1, len(route) - 2):\n",
    "            for j in range(i + 1, len(route)):\n",
    "                if j - i == 1: continue\n",
    "                if cost_change(cost_mat, best[i - 1], best[i], best[j - 1], best[j]) < 0:\n",
    "                    best[i:j] = best[j - 1:i - 1:-1]\n",
    "                    improved = True\n",
    "        route = best\n",
    "    return best\n",
    "\n",
    "def grasp(Max_Iterations, G):\n",
    "    CurrentBest = GreedySolution(G)\n",
    "    for count in range(Max_Iterations):\n",
    "        Solution = GreedySolution(G)\n",
    "        NewSolution = two_opt(G,Solution)\n",
    "        cost(G, CurrentBest)\n",
    "        if cost(G, NewSolution) < cost(G, CurrentBest):\n",
    "            CurrentBest = NewSolution\n",
    "            print(CurrentBest, cost(G, CurrentBest))\n",
    "    return CurrentBest"
   ]
  },
  {
   "cell_type": "code",
   "execution_count": 5,
   "metadata": {},
   "outputs": [
    {
     "name": "stdout",
     "output_type": "stream",
     "text": [
      "[0, 10, 3, 1, 5, 11, 8, 6, 2, 9, 7, 4] 207\n",
      "[0, 10, 9, 3, 1, 5, 11, 8, 2, 6, 4, 7] 200\n",
      "[0, 10, 7, 4, 6, 2, 9, 3, 1, 5, 11, 8] 182\n",
      "[0, 10, 7, 4, 6, 2, 9, 3, 1, 5, 11, 8]\n"
     ]
    }
   ],
   "source": [
    "print(grasp(1000, G))"
   ]
  },
  {
   "cell_type": "code",
   "execution_count": 6,
   "metadata": {},
   "outputs": [
    {
     "name": "stdout",
     "output_type": "stream",
     "text": [
      "3\t0.08589959144592285\n",
      "4\t0.08036279678344727\n",
      "5\t0.11855220794677734\n",
      "[0, 5, 4, 1, 3, 2] 192\n",
      "[0, 5, 4, 1, 2, 3] 187\n",
      "6\t0.14316296577453613\n",
      "[0, 4, 3, 1, 2, 5, 6] 230\n",
      "[0, 4, 1, 3, 6, 5, 2] 184\n",
      "[0, 5, 6, 3, 2, 1, 4] 137\n",
      "7\t0.17112994194030762\n",
      "[0, 3, 5, 7, 2, 1, 4, 6] 175\n",
      "[0, 3, 5, 2, 7, 6, 4, 1] 115\n",
      "8\t0.24941301345825195\n",
      "[0, 7, 3, 4, 5, 6, 8, 2, 1] 237\n",
      "[0, 2, 1, 3, 4, 5, 6, 8, 7] 236\n",
      "9\t0.28650784492492676\n",
      "[0, 9, 4, 5, 6, 3, 2, 1, 8, 7] 214\n",
      "10\t0.2337338924407959\n",
      "[0, 3, 4, 10, 2, 8, 6, 9, 5, 7, 1] 309\n",
      "[0, 9, 5, 7, 1, 2, 8, 6, 3, 4, 10] 267\n",
      "[0, 3, 6, 9, 5, 7, 1, 2, 10, 4, 8] 240\n",
      "[0, 7, 1, 2, 10, 4, 8, 5, 9, 6, 3] 222\n",
      "11\t0.24417662620544434\n",
      "[0, 2, 11, 5, 8, 9, 7, 3, 1, 4, 10, 6] 233\n",
      "[0, 2, 11, 6, 5, 7, 1, 4, 10, 3, 9, 8] 225\n",
      "[0, 2, 11, 8, 9, 7, 3, 1, 4, 10, 6, 5] 220\n",
      "[0, 4, 10, 6, 5, 7, 1, 3, 9, 8, 11, 2] 206\n",
      "[0, 9, 8, 5, 7, 3, 1, 4, 10, 6, 2, 11] 194\n",
      "[0, 2, 11, 8, 5, 6, 10, 4, 1, 3, 7, 9] 193\n",
      "[0, 9, 8, 5, 7, 3, 1, 4, 10, 6, 11, 2] 184\n",
      "12\t0.2884485721588135\n",
      "[0, 6, 7, 3, 9, 1, 4, 11, 10, 8, 5, 2, 12] 285\n",
      "[0, 6, 7, 12, 2, 5, 8, 10, 11, 4, 1, 3, 9] 215\n",
      "[0, 4, 9, 3, 11, 10, 8, 5, 1, 6, 7, 12, 2] 206\n",
      "[0, 6, 7, 12, 2, 5, 8, 10, 11, 3, 9, 1, 4] 200\n",
      "13\t0.43768739700317383\n",
      "[0, 6, 8, 5, 1, 11, 13, 9, 12, 3, 2, 4, 10, 7] 311\n",
      "[0, 9, 12, 13, 11, 1, 6, 8, 3, 2, 4, 10, 7, 5] 223\n",
      "[0, 9, 12, 13, 8, 6, 1, 11, 5, 7, 10, 4, 3, 2] 187\n",
      "14\t0.5942003726959229\n",
      "[0, 3, 5, 13, 14, 7, 12, 4, 2, 9, 10, 6, 1, 11, 8] 260\n",
      "[0, 5, 13, 14, 3, 6, 10, 9, 2, 8, 11, 1, 4, 12, 7] 213\n",
      "[0, 1, 11, 8, 3, 6, 10, 9, 2, 4, 12, 7, 14, 13, 5] 197\n",
      "[0, 5, 13, 14, 7, 12, 4, 1, 11, 8, 2, 9, 10, 6, 3] 161\n",
      "15\t0.8919482231140137\n",
      "[0, 3, 8, 6, 1, 9, 4, 7, 2, 15, 5, 10, 14, 13, 11, 12] 266\n",
      "[0, 3, 8, 6, 7, 4, 2, 15, 12, 11, 1, 9, 13, 14, 10, 5] 224\n",
      "[0, 3, 8, 6, 7, 4, 2, 15, 5, 10, 14, 13, 9, 11, 12, 1] 205\n",
      "[0, 3, 8, 6, 7, 4, 2, 15, 12, 1, 9, 11, 13, 14, 5, 10] 202\n",
      "16\t0.6709160804748535\n",
      "[0, 1, 11, 14, 10, 12, 7, 2, 5, 13, 16, 9, 3, 6, 4, 15, 8] 323\n",
      "[0, 1, 11, 6, 4, 15, 2, 5, 8, 9, 16, 13, 14, 10, 12, 7, 3] 230\n",
      "[0, 10, 14, 13, 16, 9, 8, 5, 2, 15, 4, 6, 3, 7, 12, 11, 1] 185\n",
      "17\t0.5578234195709229\n",
      "[0, 12, 13, 2, 6, 10, 15, 14, 9, 3, 4, 5, 17, 8, 16, 7, 1, 11] 242\n",
      "[0, 11, 1, 7, 16, 8, 10, 15, 14, 12, 9, 3, 6, 5, 17, 4, 13, 2] 222\n",
      "[0, 11, 1, 7, 16, 8, 2, 13, 4, 17, 5, 6, 3, 9, 12, 10, 15, 14] 221\n",
      "[0, 11, 1, 7, 16, 8, 10, 15, 14, 9, 3, 6, 2, 13, 4, 17, 5, 12] 212\n",
      "[0, 11, 1, 7, 16, 8, 10, 6, 2, 13, 15, 14, 9, 3, 4, 17, 5, 12] 205\n",
      "[0, 12, 9, 3, 10, 7, 15, 14, 6, 5, 17, 4, 13, 2, 8, 16, 1, 11] 204\n",
      "[0, 12, 9, 3, 10, 15, 14, 6, 5, 17, 4, 13, 2, 8, 16, 7, 1, 11] 200\n",
      "[0, 12, 9, 3, 4, 17, 5, 6, 14, 15, 13, 2, 10, 8, 16, 7, 1, 11] 197\n",
      "18\t0.6294112205505371\n",
      "[0, 16, 2, 18, 13, 5, 12, 15, 11, 17, 9, 1, 3, 6, 14, 8, 7, 10, 4] 259\n",
      "[0, 7, 10, 4, 8, 14, 6, 13, 18, 3, 1, 9, 17, 11, 15, 12, 5, 2, 16] 211\n",
      "[0, 2, 10, 7, 5, 13, 18, 17, 9, 1, 12, 3, 6, 14, 8, 4, 11, 15, 16] 209\n",
      "[0, 16, 2, 10, 4, 8, 14, 6, 3, 1, 9, 17, 11, 15, 12, 5, 13, 18, 7] 205\n",
      "[0, 15, 11, 17, 9, 1, 10, 7, 18, 13, 5, 12, 3, 6, 14, 8, 4, 16, 2] 191\n",
      "[0, 2, 10, 7, 18, 13, 5, 12, 3, 6, 14, 8, 4, 11, 15, 17, 9, 1, 16] 187\n",
      "[0, 2, 10, 7, 18, 13, 5, 12, 15, 11, 17, 9, 1, 3, 6, 14, 8, 4, 16] 173\n",
      "19\t0.686896800994873\n",
      "[0, 19, 7, 14, 17, 10, 15, 9, 16, 5, 12, 18, 4, 3, 1, 11, 6, 8, 2, 13] 230\n",
      "[0, 13, 15, 10, 17, 14, 7, 4, 18, 12, 5, 16, 9, 6, 8, 2, 3, 1, 11, 19] 224\n",
      "[0, 13, 15, 10, 17, 14, 3, 2, 8, 6, 9, 16, 5, 11, 1, 12, 18, 4, 7, 19] 212\n",
      "[0, 8, 2, 5, 16, 12, 1, 11, 6, 9, 15, 13, 10, 17, 14, 3, 4, 18, 7, 19] 204\n",
      "[0, 13, 15, 10, 17, 14, 12, 1, 11, 3, 4, 18, 7, 19, 6, 9, 16, 5, 2, 8] 202\n",
      "[0, 8, 2, 5, 16, 12, 1, 11, 9, 6, 19, 7, 18, 4, 3, 14, 17, 10, 15, 13] 193\n",
      "20\t1.0552265644073486\n"
     ]
    }
   ],
   "source": [
    "pnts_n = []\n",
    "pnts_t = []\n",
    "\n",
    "n = 3\n",
    "t0 = t1 = 0\n",
    "\n",
    "while t1-t0<1:\n",
    "    G = random_symmetric_graph(n)\n",
    "    t0 = time()\n",
    "    grasp(1000, G)\n",
    "    t1 = time ()\n",
    "    # record time\n",
    "    print( f\"{n}\\t{t1-t0}\" )\n",
    "    pnts_n.append( n )\n",
    "    pnts_t.append( t1-t0)\n",
    "    n += 1"
   ]
  },
  {
   "cell_type": "code",
   "execution_count": 7,
   "metadata": {},
   "outputs": [
    {
     "data": {
      "image/png": "[encoded data removed]",
      "text/plain": [
       "<Figure size 432x360 with 1 Axes>"
      ]
     },
     "metadata": {
      "needs_background": "light"
     },
     "output_type": "display_data"
    }
   ],
   "source": [
    "# Determine size of the graph\n",
    "plt.rcParams[\"figure.figsize\"] = (6,5)\n",
    "# Plot data\n",
    "plt.plot(pnts_n, pnts_t, 'ro-')\n",
    "# Label x and y axis\n",
    "plt.ylabel('time')\n",
    "plt.xlabel('cities (n)')\n",
    "# show graph\n",
    "plt.show()"
   ]
  },
  {
   "cell_type": "markdown",
   "metadata": {},
   "source": [
    "# Discussion:\n",
    "As you can see the GRASP search shows a running time of 0(n^2) which shows it grows in polynomial time"
   ]
  },
  {
   "cell_type": "markdown",
   "metadata": {},
   "source": [
    "# References"
   ]
  },
  {
   "cell_type": "markdown",
   "metadata": {},
   "source": [
    "Anh Tu, P, Tuan Dat, N., Quang Dung, P. (2018) **‘Traveling Salesman Problem with Multiple Drones’** Proceedings of the Ninth International Symposium on Information and Communication Technology [online], 46-53. Available from https://dl.acm.org/doi/abs/10.1145/3287921.3287932 [24 March 2020]"
   ]
  },
  {
   "cell_type": "markdown",
   "metadata": {},
   "source": [
    "Hamdi, K. (2014) **‘A mathematical model and a GRASP metaheuristic for a faculty-course assignment problem for a University in Saudi Arabia’** IEEE International Conference on Industrial Engineering and Engineering Management [online], 672-676. Available from https://ieeexplore.ieee.org/stamp/stamp.jsp?tp=&arnumber=7058723 [17 March 2020]"
   ]
  },
  {
   "cell_type": "markdown",
   "metadata": {},
   "source": [
    "Mersiovsky, T., Thekkottil, A., Hanne, T., Dornberger, R. (2018) **‘Optimal Learning Rate and Neighborhood Radius of Kohonen's Self-Organizing Map for Solving the Travelling Salesman Problem’** Proceedings of the 2nd International Conference on Intelligent Systems, Metaheuristics & Swarm Intelligence [online], 54-59. Available from https://dl.acm.org/doi/abs/10.1145/3206185.3206194 [3 March 2020]"
   ]
  },
  {
   "cell_type": "markdown",
   "metadata": {},
   "source": [
    "Ribeiro, C., Resende, M., (1999) **‘Algorithm 797: Fortran subroutines for approximate solution of graph planarization problems using GRASP’** ACM Transactions on Mathematical Software [online], 342-352. Available from http://www.optimization-online.org/DB_FILE/2008/07/2039.pdf [2 March 2020]"
   ]
  },
  {
   "cell_type": "markdown",
   "metadata": {},
   "source": [
    "Talbi, E., (2009) **Metaheuristics: From Design to Implementation** [online], New Jersey: John Wiley & Sons, Inc. available from <https://onlinelibrary.wiley.com/doi/book/10.1002/9780470496916> [5 March 2020]"
   ]
  },
  {
   "cell_type": "markdown",
   "metadata": {},
   "source": [
    "Wikipedia (2020) **Metaheuristic** [online] available from <https://en.wikipedia.org/wiki/Metaheuristic> [12 March 2020]"
   ]
  }
 ],
 "metadata": {
  "kernelspec": {
   "display_name": "Python 3",
   "language": "python",
   "name": "python3"
  },
  "language_info": {
   "codemirror_mode": {
    "name": "ipython",
    "version": 3
   },
   "file_extension": ".py",
   "mimetype": "text/x-python",
   "name": "python",
   "nbconvert_exporter": "python",
   "pygments_lexer": "ipython3",
   "version": "3.7.4"
  }
 },
 "nbformat": 4,
 "nbformat_minor": 2
}
