{
 "cells": [
  {
   "cell_type": "markdown",
   "metadata": {},
   "source": [
    "# Selection of two Meta-Heuristics which solve the Travelling Salesman Problem"
   ]
  },
  {
   "cell_type": "markdown",
   "metadata": {},
   "source": [
    "The Travelling Salesman Problem (TSP) is a well-studied optimization problem that has been proved to be non-deterministic NP hard problem (Mersiovsky et al., 2018). The TSP problem involves a travelling salesperson wanting to visit exactly one city in a list of cities and afterwards return to first city at the lowest cost. Metaheuristics algorithms such as Ant Colony Optimisation (ACO) and greedy randomized adaptive search procedure (GRASP) can provide an optimized way to solve this problem. \n",
    "\n",
    "Metaheuristic algorithms provide an optimized way of solving complex problems, such as the travelling salesman problem. Compared to other algorithms such as optimization algorithms and iterative methods, metaheuristics cannot guarantee a global optimal solution for some class problems (Wikipedia, n.d.).\n"
   ]
  },
  {
   "cell_type": "markdown",
   "metadata": {},
   "source": [
    "# The Graph"
   ]
  },
  {
   "cell_type": "code",
   "execution_count": 1,
   "metadata": {},
   "outputs": [],
   "source": [
    "import random\n",
    "from pprint import pprint\n",
    "from itertools import permutations\n",
    "from math import inf as oo # Infinity (∞) is larger than any number\n",
    "from math import sqrt\n",
    "from time      import time\n",
    "import matplotlib.pyplot as plt\n",
    "import copy\n",
    "\n",
    "MAX_DISTANCE = 100 # Set maximum nodes for graph\n",
    "\n",
    "def random_symmetric_graph(n,seed):\n",
    "    ''' Symmetric adjacency matrix of size nxn '''\n",
    "    dist_matrix = [[oo for _ in range(n)] for _ in range(n)]\n",
    "    random.seed(seed)\n",
    "    for i in range(n):\n",
    "        for j in range(i+1,n):\n",
    "            v = random.randint(1,MAX_DISTANCE)\n",
    "            dist_matrix[i][j] = v\n",
    "            dist_matrix[j][i] = v\n",
    "    return dist_matrix\n",
    "\n",
    "def random_euclidean_graph(n):\n",
    "    ''' Symmetric adjacency matrix of a Euclidean graph of size nxn '''\n",
    "    dist_matrix = [[oo for _ in range(n)] for _ in range(n)]\n",
    "    points = []\n",
    "    for p in range(n):\n",
    "        x,y = randint(0,MAX_DISTANCE), randint(0,MAX_DISTANCE)\n",
    "        points.append((x,y))\n",
    "    for i in range(n):\n",
    "        p1 = points[i]\n",
    "        for j in range(i+1,n):\n",
    "            p2 = points[j]\n",
    "            distance = sqrt((p1[0]-p2[0])**2+(p1[1]-p2[1])**2)\n",
    "            dist_matrix[i][j] = distance\n",
    "            dist_matrix[j][i] = distance\n",
    "    return dist_matrix\n",
    "\n",
    "def show(G):\n",
    "    ''' Show adjacency matrix. Useful for debugging. '''\n",
    "    n = len(G)\n",
    "    r = \"     \"\n",
    "    for i in range(n):\n",
    "        r += f'{i:4}'\n",
    "    r += '\\n    -'+'-'*(4*n)+'\\n'\n",
    "    for i in range(n):\n",
    "        r += f'{i:2} | '\n",
    "        for j in range(n):\n",
    "            r += f'{G[i][j]:4}'\n",
    "        r += '\\n'\n",
    "    r = r.replace('inf', '  ∞')\n",
    "    print(r)\n",
    "\n",
    "def cost(G, cycle):\n",
    "    ''' Calculate the cost of the given cycle '''\n",
    "    c = 0\n",
    "    n = len(G)\n",
    "    for i in range(n):\n",
    "        a = cycle[i]\n",
    "        b = cycle[(i+1)%n]\n",
    "        c += G[a][b]\n",
    "    return c\n",
    "\n",
    "# Code used from https://github.coventry.ac.uk/380CT-1920JANMAY/TSP-Guidance/blob/master/Investigating%20TSP.ipynb"
   ]
  },
  {
   "cell_type": "markdown",
   "metadata": {},
   "source": [
    "# Example: Generating Graph"
   ]
  },
  {
   "cell_type": "code",
   "execution_count": 2,
   "metadata": {},
   "outputs": [
    {
     "name": "stdout",
     "output_type": "stream",
     "text": [
      "        0   1   2\n",
      "    -------------\n",
      " 0 |    ∞  18  73\n",
      " 1 |   18   ∞  98\n",
      " 2 |   73  98   ∞\n",
      "\n"
     ]
    }
   ],
   "source": [
    "nsize = 3\n",
    "seed = 1\n",
    "G = random_symmetric_graph(nsize,seed)\n",
    "show(G)"
   ]
  },
  {
   "cell_type": "markdown",
   "metadata": {},
   "source": [
    "# Greedy Randomized Adaptive Search Procedure (GRASP)"
   ]
  },
  {
   "cell_type": "markdown",
   "metadata": {},
   "source": [
    "Pseudocode:"
   ]
  },
  {
   "cell_type": "markdown",
   "metadata": {},
   "source": [
    "**Initialization**\n",
    "<br>\n",
    "Obj(BestSoln) = 0\n",
    "<br>\n",
    "**For** For i = 1 to $n_{i}$ **do**\n",
    "<br>\n",
    "$\\quad$ H(Soln) //generate initial solution\n",
    "<br>\n",
    "$\\quad$ LS(Soln)            //apply local search\n",
    "<br>\n",
    "$\\quad$ **If** Obj(Soln) > Obj(BestSoln) **then**\n",
    "<br>\n",
    "$\\quad$$\\quad$BestSoln = Soln    //update the best solution\n",
    "<br>\n",
    "$\\quad$**End if**\n",
    "<br>\n",
    "**End for**\n",
    "<br>\n",
    "<br>\n",
    "(Hamdi, 2014)\n",
    "\n",
    "\n",
    "\n",
    "**Complexity**: 0($2^{n}$)"
   ]
  },
  {
   "cell_type": "markdown",
   "metadata": {},
   "source": [
    "GRASP is a meta-heuristic algorithm to solve combinatorial optimization problems, introduced by Feo and Resende (Anh Tu, Tuan Dat, Quang Dung, 2018). It is also recognized as a single solution-based metaheuristic which improves a single solution. This can be considered as a “walk” through neighborhoods through the search space of the problem at hand, in this case TSP problem (Talbi, 2009).\n",
    "\n",
    "During the construction phase a set of candidate solutions are generated from a current solution. The set of candidates are generated by a local search. Then comes the replacement phase which focuses on selecting a candidate solution from the set of candidates and replaces the current solution. The replacement phase is iterated multiple times until a certain criterion is achieved (Ribeiro, Resende, 199). \n",
    "\n",
    "The neighborhood is a key part of designing a solution-based algorithm. The structure of the neighborhood can have an effect on the performance of the algorithm being implemented. If the neighborhood structure is not adequate to the problem, any solution-based metaheuristic will fail to solve the problem (Talbi, 2009). \n",
    "\n",
    "The greedy local search of the GRASP meta-heuristic must be randomized in order to produce various solutions to the TSP problem. If the algorithm was not randomized, then the local search produced can only be used once to produce a solution. "
   ]
  },
  {
   "cell_type": "code",
   "execution_count": 3,
   "metadata": {},
   "outputs": [],
   "source": [
    "def GreedySolution(G):\n",
    "    \"\"\"Random path generation algorithm\"\"\"\n",
    "    H = copy.deepcopy(G) # We need the original G. We work on/modify H\n",
    "    n = len(H)\n",
    "    cities = list(range(n))\n",
    "    cycle = [] # solution to be built\n",
    "    city = 0 # Start city\n",
    "    while len(cities)>0:\n",
    "        # Find nearest neighbour\n",
    "        city_neighbours = H[city]\n",
    "        if city_neighbours[1:] == city_neighbours[:-1]:\n",
    "            random_distance = oo\n",
    "        else:\n",
    "            random_distance = random.choice([i for i in city_neighbours if i != oo])\n",
    "        next_city = city_neighbours.index(random_distance)\n",
    "        # Update 'cycle' and 'cities' and H then 'city'\n",
    "        cycle.append(city)\n",
    "        cities.remove(city)\n",
    "        for i in range(n): # 'city' is not to be used again!\n",
    "            H[city][i] = oo\n",
    "            H[i][city] = oo\n",
    "        city = next_city\n",
    "    return (cycle)\n",
    "\n",
    "def cost_change(cost_mat, n1, n2, n3, n4):\n",
    "    \"\"\"Calculate lowest cost\"\"\"\n",
    "    return cost_mat[n1][n3] + cost_mat[n2][n4] - cost_mat[n1][n2] - cost_mat[n3][n4]\n",
    "\n",
    "def two_opt(cost_mat, route):\n",
    "    \"\"\"Optimization algorithm, swap local options for nearest distance\"\"\"\n",
    "    best = route\n",
    "    improved = True\n",
    "    while improved:\n",
    "        improved = False\n",
    "        for i in range(1, len(route) - 2):\n",
    "            for j in range(i + 1, len(route)):\n",
    "                if j - i == 1: continue\n",
    "                if cost_change(cost_mat, best[i - 1], best[i], best[j - 1], best[j]) < 0:\n",
    "                    best[i:j] = best[j - 1:i - 1:-1]\n",
    "                    improved = True\n",
    "        route = best\n",
    "    return best\n",
    "\n",
    "def grasp(Max_Iterations, G):\n",
    "    \"\"\"Generator and Optimizer functions combined to repeatedly \"\"\"\n",
    "    CurrentBest = GreedySolution(G)\n",
    "    for count in range(Max_Iterations):\n",
    "        Solution = GreedySolution(G)\n",
    "        NewSolution = two_opt(G,Solution)\n",
    "        cost(G, CurrentBest)\n",
    "        if cost(G, NewSolution) < cost(G, CurrentBest):\n",
    "            CurrentBest = NewSolution\n",
    "            print(\"Solution: \", CurrentBest, \"\\nTotal Cost: \",cost(G, CurrentBest), \"\\n\")\n",
    "    return CurrentBest\n",
    "\n",
    "# code used from: \n",
    "# https://github.coventry.ac.uk/380CT-1920JANMAY/TSP-Guidance/blob/master/Investigating%20TSP.ipynb\n",
    "# https://stackoverflow.com/questions/53275314/2-opt-algorithm-to-solve-the-travelling-salesman-problem-in-python"
   ]
  },
  {
   "cell_type": "code",
   "execution_count": 4,
   "metadata": {},
   "outputs": [
    {
     "name": "stdout",
     "output_type": "stream",
     "text": [
      "Solution:  [0, 4, 3, 1, 2] \n",
      "Total Cost:  192 \n",
      "\n",
      "Nodes\tRun Time\n",
      "5\t0.12753009796142578\n",
      "Solution:  [0, 1, 2, 5, 3, 4] \n",
      "Total Cost:  132 \n",
      "\n",
      "Nodes\tRun Time\n",
      "6\t0.13615727424621582\n",
      "Solution:  [0, 4, 3, 2, 5, 1, 6] \n",
      "Total Cost:  236 \n",
      "\n",
      "Solution:  [0, 6, 3, 4, 2, 5, 1] \n",
      "Total Cost:  195 \n",
      "\n",
      "Nodes\tRun Time\n",
      "7\t0.19414997100830078\n",
      "Solution:  [0, 1, 3, 7, 5, 2, 6, 4] \n",
      "Total Cost:  228 \n",
      "\n",
      "Solution:  [0, 4, 5, 2, 3, 7, 1, 6] \n",
      "Total Cost:  209 \n",
      "\n",
      "Solution:  [0, 4, 6, 1, 7, 3, 2, 5] \n",
      "Total Cost:  194 \n",
      "\n",
      "Nodes\tRun Time\n",
      "8\t0.24136066436767578\n",
      "Solution:  [0, 6, 5, 8, 4, 3, 2, 1, 7] \n",
      "Total Cost:  205 \n",
      "\n",
      "Solution:  [0, 6, 5, 8, 7, 1, 2, 3, 4] \n",
      "Total Cost:  111 \n",
      "\n",
      "Nodes\tRun Time\n",
      "9\t0.39525318145751953\n",
      "Solution:  [0, 4, 7, 2, 9, 6, 5, 1, 8, 3] \n",
      "Total Cost:  221 \n",
      "\n",
      "Solution:  [0, 6, 5, 4, 7, 2, 9, 3, 8, 1] \n",
      "Total Cost:  162 \n",
      "\n",
      "Solution:  [0, 1, 8, 3, 2, 7, 9, 6, 5, 4] \n",
      "Total Cost:  141 \n",
      "\n",
      "Nodes\tRun Time\n",
      "10\t0.40183067321777344\n",
      "Solution:  [0, 4, 6, 10, 2, 8, 3, 9, 5, 7, 1] \n",
      "Total Cost:  168 \n",
      "\n",
      "Solution:  [0, 4, 9, 8, 3, 7, 1, 5, 2, 10, 6] \n",
      "Total Cost:  167 \n",
      "\n",
      "Solution:  [0, 1, 7, 3, 8, 9, 5, 2, 10, 6, 4] \n",
      "Total Cost:  159 \n",
      "\n",
      "Nodes\tRun Time\n",
      "11\t0.43231725692749023\n",
      "Solution:  [0, 1, 6, 2, 10, 11, 7, 8, 9, 3, 5, 4] \n",
      "Total Cost:  228 \n",
      "\n",
      "Solution:  [0, 1, 6, 2, 10, 11, 5, 3, 9, 7, 8, 4] \n",
      "Total Cost:  192 \n",
      "\n",
      "Solution:  [0, 1, 6, 3, 2, 10, 11, 5, 9, 7, 8, 4] \n",
      "Total Cost:  187 \n",
      "\n",
      "Solution:  [0, 6, 1, 7, 8, 9, 3, 2, 10, 11, 5, 4] \n",
      "Total Cost:  186 \n",
      "\n",
      "Nodes\tRun Time\n",
      "12\t0.5142927169799805\n",
      "Solution:  [0, 4, 6, 10, 7, 9, 12, 5, 8, 2, 11, 1, 3] \n",
      "Total Cost:  291 \n",
      "\n",
      "Solution:  [0, 4, 8, 2, 10, 7, 9, 12, 3, 6, 11, 1, 5] \n",
      "Total Cost:  231 \n",
      "\n",
      "Solution:  [0, 6, 10, 7, 9, 3, 12, 2, 8, 5, 1, 11, 4] \n",
      "Total Cost:  206 \n",
      "\n",
      "Solution:  [0, 1, 11, 2, 8, 5, 12, 3, 9, 7, 10, 6, 4] \n",
      "Total Cost:  205 \n",
      "\n",
      "Solution:  [0, 6, 3, 12, 9, 7, 10, 2, 8, 5, 1, 11, 4] \n",
      "Total Cost:  192 \n",
      "\n",
      "Nodes\tRun Time\n",
      "13\t0.597186803817749\n",
      "Solution:  [0, 4, 1, 10, 2, 8, 6, 3, 9, 11, 13, 12, 7, 5] \n",
      "Total Cost:  228 \n",
      "\n",
      "Solution:  [0, 4, 1, 10, 2, 8, 13, 12, 7, 5, 11, 9, 3, 6] \n",
      "Total Cost:  214 \n",
      "\n",
      "Solution:  [0, 13, 12, 7, 5, 11, 9, 3, 6, 8, 2, 10, 1, 4] \n",
      "Total Cost:  212 \n",
      "\n",
      "Nodes\tRun Time\n",
      "14\t0.7822840213775635\n",
      "Solution:  [0, 14, 12, 10, 13, 7, 5, 6, 3, 1, 9, 8, 11, 4, 2] \n",
      "Total Cost:  319 \n",
      "\n",
      "Solution:  [0, 6, 3, 1, 9, 8, 2, 7, 13, 10, 12, 14, 11, 5, 4] \n",
      "Total Cost:  219 \n",
      "\n",
      "Solution:  [0, 4, 11, 5, 6, 3, 1, 9, 8, 2, 7, 13, 10, 12, 14] \n",
      "Total Cost:  188 \n",
      "\n",
      "Nodes\tRun Time\n",
      "15\t0.8975651264190674\n",
      "Solution:  [0, 6, 5, 3, 12, 2, 9, 14, 8, 1, 15, 10, 11, 13, 7, 4] \n",
      "Total Cost:  265 \n",
      "\n",
      "Solution:  [0, 6, 14, 8, 1, 2, 9, 12, 3, 5, 15, 10, 7, 4, 11, 13] \n",
      "Total Cost:  243 \n",
      "\n",
      "Solution:  [0, 14, 3, 10, 15, 1, 8, 7, 13, 11, 4, 12, 9, 2, 5, 6] \n",
      "Total Cost:  240 \n",
      "\n",
      "Solution:  [0, 6, 5, 3, 12, 9, 2, 4, 7, 13, 11, 10, 15, 1, 8, 14] \n",
      "Total Cost:  238 \n",
      "\n",
      "Solution:  [0, 6, 14, 8, 1, 2, 9, 12, 3, 5, 15, 10, 11, 13, 7, 4] \n",
      "Total Cost:  234 \n",
      "\n",
      "Solution:  [0, 6, 14, 8, 1, 15, 10, 3, 5, 2, 9, 12, 11, 13, 7, 4] \n",
      "Total Cost:  232 \n",
      "\n",
      "Solution:  [0, 13, 11, 4, 7, 8, 1, 15, 10, 3, 12, 9, 2, 5, 6, 14] \n",
      "Total Cost:  213 \n",
      "\n",
      "Nodes\tRun Time\n",
      "16\t0.8493068218231201\n",
      "Solution:  [0, 16, 5, 10, 6, 8, 4, 12, 15, 3, 2, 7, 1, 14, 11, 13, 9] \n",
      "Total Cost:  306 \n",
      "\n",
      "Solution:  [0, 4, 12, 5, 10, 8, 6, 15, 3, 2, 13, 9, 11, 14, 7, 1, 16] \n",
      "Total Cost:  172 \n",
      "\n",
      "Nodes\tRun Time\n",
      "17\t0.9737992286682129\n",
      "Solution:  [0, 6, 1, 11, 2, 5, 15, 9, 16, 14, 10, 8, 12, 3, 17, 4, 7, 13] \n",
      "Total Cost:  322 \n",
      "\n",
      "Solution:  [0, 4, 7, 11, 2, 5, 13, 15, 12, 8, 10, 14, 1, 6, 17, 3, 16, 9] \n",
      "Total Cost:  281 \n",
      "\n",
      "Solution:  [0, 4, 7, 13, 5, 2, 11, 10, 8, 12, 3, 17, 6, 1, 15, 9, 16, 14] \n",
      "Total Cost:  231 \n",
      "\n",
      "Solution:  [0, 14, 10, 8, 3, 12, 15, 16, 9, 6, 17, 1, 13, 5, 2, 11, 7, 4] \n",
      "Total Cost:  215 \n",
      "\n",
      "Solution:  [0, 14, 10, 8, 12, 3, 16, 9, 6, 17, 1, 15, 13, 5, 2, 11, 7, 4] \n",
      "Total Cost:  203 \n",
      "\n",
      "Solution:  [0, 4, 7, 11, 2, 5, 13, 9, 16, 15, 1, 6, 17, 3, 12, 8, 10, 14] \n",
      "Total Cost:  201 \n",
      "\n",
      "Nodes\tRun Time\n",
      "18\t1.10386323928833\n"
     ]
    }
   ],
   "source": [
    "pnts_grasp_n = []\n",
    "pnts_grasp_t = []\n",
    "\n",
    "n = 5\n",
    "s = 1\n",
    "t0 = t1 = 0\n",
    "\n",
    "while t1-t0<1:\n",
    "    G = random_symmetric_graph(n,s)\n",
    "    t0 = time()\n",
    "    grasp(1000, G)\n",
    "    t1 = time ()\n",
    "    # record time\n",
    "    print(\"Nodes\\tRun Time\")\n",
    "    print(f\"{n}\\t{t1-t0}\" )\n",
    "    pnts_grasp_n.append( n )\n",
    "    pnts_grasp_t.append( t1-t0)\n",
    "    n += 1"
   ]
  },
  {
   "cell_type": "code",
   "execution_count": 5,
   "metadata": {},
   "outputs": [
    {
     "data": {
      "image/png": "[encoded data removed]",
      "text/plain": [
       "<Figure size 432x360 with 1 Axes>"
      ]
     },
     "metadata": {
      "needs_background": "light"
     },
     "output_type": "display_data"
    }
   ],
   "source": [
    "# Determine size of the graph\n",
    "plt.rcParams[\"figure.figsize\"] = (6,5)\n",
    "# Plot data\n",
    "plt.plot(pnts_grasp_n, pnts_grasp_t, 'ro-')\n",
    "# Label x and y axis\n",
    "plt.ylabel('time (s)')\n",
    "plt.xlabel('cities (n)')\n",
    "# show graph\n",
    "plt.show()"
   ]
  },
  {
   "cell_type": "markdown",
   "metadata": {},
   "source": [
    "The graph is testing for time against cities"
   ]
  },
  {
   "cell_type": "markdown",
   "metadata": {},
   "source": [
    "# Discussion:\n",
    "As you can see the GRASP search shows a running time of 0(n^2) which shows it grows in polynomial time"
   ]
  },
  {
   "cell_type": "markdown",
   "metadata": {},
   "source": [
    "# Ant Colony\n",
    "\n",
    "Our second Meta-Heuristic Algorithm that we will be implementing for the Travelling Salesman Problem (TSP) is Ant Colony Optimisation (ACO). This algorithm was \"proposed by Marco Dorigo in 1991 based on the behaviour of biological ants.\"(Akhtar, 2019). The way the Ant Colony Optimisation (ACO) algorithm works is becuase this is a swarm intelligence based meta-heuristic. \"Because the ants drop pheromones every time they bring food, shorter paths are more likely to be stronger optimizing the 'solution'.(Macura, W, n.d.). The Ant Colony Optimisation (ACO) can be applied to the Travelling Salesman Problem (TSP) in order to find the shortest path of cities in the shortest time, by applying the ACO to this it means \"Once all the ants have completed their tour, the pheromone on the edges is updated. Each of the pheromone values is initially decreased by a certain percentage. Each edge then recieves an amount of additional pheromone proportional to the quality of the solutions to which it belongs (there is one solution per ant)\".(Dorigo, 2007).\n",
    "\n",
    "**Pseudocode: Ant Colony Optimisation (ACO)**\n",
    "\n",
    "Input: An instance of P of a combinational problem P\n",
    "<br>\n",
    "\n",
    "InitializePheromoneValues(T)\n",
    "<br>\n",
    "\n",
    "**while** termination condition not met **do**\n",
    "<br>\n",
    "$\\quad$   Siter ← ∅\n",
    "<br>\n",
    "$\\quad$   **for** j = 1,...n **do**\n",
    "<br>\n",
    "$\\quad$      s ← ConstructSolution(T)      \n",
    "$\\quad$      s ← LocalSearch(s)      \n",
    "$\\quad$      Siter ← Siter ∪ {s}    \n",
    "$\\quad$   **end for**   \n",
    "$\\quad$   ApplyPheromoneUpdate(T)   \n",
    "**end while**\n",
    "<br>\n",
    "<br>\n",
    "\n",
    "Output: The best Solution Found\n",
    "\n",
    "(Blum, 2011)\n",
    "\n",
    "**Big O Complexity:**\n",
    "\n",
    "The Big O Complexity for time complexity as shown in the Pseudocode is O($n^{2}$) this is becuase of the nested loop for loop within the while loop. The Ant Colony Optimisation has a space complexity of O(n) which is linear.\n",
    " "
   ]
  },
  {
   "cell_type": "code",
   "execution_count": 6,
   "metadata": {},
   "outputs": [],
   "source": [
    "import random as rn\n",
    "import numpy as np\n",
    "from numpy.random import choice as np_choice\n",
    "\n",
    "class AntColony(object):\n",
    "\n",
    "    def __init__(self, distances, n_ants, n_best, n_iterations, decay, alpha=1, beta=1):\n",
    "        \"\"\"\n",
    "        Args:\n",
    "            distances (2D numpy.array): Square matrix of distances. Diagonal is assumed to be np.inf.\n",
    "            n_ants (int): Number of ants running per iteration\n",
    "            n_best (int): Number of best ants who deposit pheromone\n",
    "            n_iteration (int): Number of iterations\n",
    "            decay (float): Rate it which pheromone decays. The pheromone value is multiplied by decay, so 0.95 will lead to decay, 0.5 to much faster decay.\n",
    "            alpha (int or float): exponenet on pheromone, higher alpha gives pheromone more weight. Default=1\n",
    "            beta (int or float): exponent on distance, higher beta give distance more weight. Default=1\n",
    "\n",
    "        Example:\n",
    "            ant_colony = AntColony(german_distances, 100, 20, 2000, 0.95, alpha=1, beta=2)          \n",
    "        \"\"\"\n",
    "        self.distances  = distances\n",
    "        self.pheromone = np.ones(self.distances.shape) / len(distances)\n",
    "        self.all_inds = range(len(distances))\n",
    "        self.n_ants = n_ants\n",
    "        self.n_best = n_best\n",
    "        self.n_iterations = n_iterations\n",
    "        self.decay = decay\n",
    "        self.alpha = alpha\n",
    "        self.beta = beta\n",
    "\n",
    "    def run(self):\n",
    "        shortest_path = None\n",
    "        all_time_shortest_path = (\"placeholder\", np.inf)\n",
    "        for i in range(self.n_iterations):\n",
    "            all_paths = self.gen_all_paths()\n",
    "            self.spread_pheronome(all_paths, self.n_best, shortest_path=shortest_path)\n",
    "            shortest_path = min(all_paths, key=lambda x: x[1])\n",
    "            if shortest_path[1] < all_time_shortest_path[1]:\n",
    "                all_time_shortest_path = shortest_path            \n",
    "            self.pheromone * self.decay  \n",
    "        print (str(shortest_path) + \"\\n\")\n",
    "        return all_time_shortest_path\n",
    "\n",
    "    def spread_pheronome(self, all_paths, n_best, shortest_path):\n",
    "        sorted_paths = sorted(all_paths, key=lambda x: x[1])\n",
    "        for path, dist in sorted_paths[:n_best]:\n",
    "            for move in path:\n",
    "                self.pheromone[move] += 1.0 / self.distances[move]\n",
    "\n",
    "    def gen_path_dist(self, path):\n",
    "        total_dist = 0\n",
    "        for ele in path:\n",
    "            total_dist += self.distances[ele]\n",
    "        return total_dist\n",
    "\n",
    "    def gen_all_paths(self):\n",
    "        all_paths = []\n",
    "        for i in range(self.n_ants):\n",
    "            path = self.gen_path(0)\n",
    "            all_paths.append((path, self.gen_path_dist(path)))\n",
    "        return all_paths\n",
    "\n",
    "    def gen_path(self, start):\n",
    "        path = []\n",
    "        visited = set()\n",
    "        visited.add(start)\n",
    "        prev = start\n",
    "        for i in range(len(self.distances) - 1):\n",
    "            move = self.pick_move(self.pheromone[prev], self.distances[prev], visited)\n",
    "            path.append((prev, move))\n",
    "            prev = move\n",
    "            visited.add(move)\n",
    "        path.append((prev, start)) # going back to where we started    \n",
    "        return path\n",
    "\n",
    "    def pick_move(self, pheromone, dist, visited):\n",
    "        pheromone = np.copy(pheromone)\n",
    "        pheromone[list(visited)] = 0\n",
    "\n",
    "        row = pheromone ** self.alpha * (( 1.0 / dist) ** self.beta)\n",
    "\n",
    "        norm_row = row / row.sum()\n",
    "        move = np_choice(self.all_inds, 1, p=norm_row)[0]\n",
    "        return move\n",
    "\n",
    "# Code used from:\n",
    "# https://github.com/Akavall/AntColonyOptimization"
   ]
  },
  {
   "cell_type": "code",
   "execution_count": 7,
   "metadata": {},
   "outputs": [
    {
     "name": "stdout",
     "output_type": "stream",
     "text": [
      "([(0, 4), (4, 2), (2, 3), (3, 1), (1, 0)], 199.0)\n",
      "\n",
      "nodes\ttime\n",
      "5\t0.14032459259033203\n",
      "([(0, 4), (4, 3), (3, 5), (5, 2), (2, 1), (1, 0)], 132.0)\n",
      "\n",
      "nodes\ttime\n",
      "6\t0.1552879810333252\n",
      "([(0, 4), (4, 3), (3, 2), (2, 5), (5, 1), (1, 6), (6, 0)], 236.0)\n",
      "\n",
      "nodes\ttime\n",
      "7\t0.18998003005981445\n",
      "([(0, 4), (4, 6), (6, 1), (1, 7), (7, 3), (3, 2), (2, 5), (5, 0)], 194.0)\n",
      "\n",
      "nodes\ttime\n",
      "8\t0.17153716087341309\n",
      "([(0, 4), (4, 3), (3, 2), (2, 5), (5, 7), (7, 8), (8, 1), (1, 6), (6, 0)], 181.0)\n",
      "\n",
      "nodes\ttime\n",
      "9\t0.25885987281799316\n",
      "([(0, 4), (4, 6), (6, 5), (5, 9), (9, 7), (7, 2), (2, 3), (3, 8), (8, 1), (1, 0)], 164.0)\n",
      "\n",
      "nodes\ttime\n",
      "10\t0.27340030670166016\n",
      "([(0, 4), (4, 6), (6, 10), (10, 2), (2, 5), (5, 7), (7, 1), (1, 3), (3, 8), (8, 9), (9, 0)], 219.0)\n",
      "\n",
      "nodes\ttime\n",
      "11\t0.25169801712036133\n",
      "([(0, 4), (4, 3), (3, 2), (2, 10), (10, 11), (11, 5), (5, 9), (9, 8), (8, 7), (7, 1), (1, 6), (6, 0)], 190.0)\n",
      "\n",
      "nodes\ttime\n",
      "12\t0.3234901428222656\n",
      "([(0, 4), (4, 11), (11, 1), (1, 5), (5, 12), (12, 3), (3, 6), (6, 10), (10, 2), (2, 8), (8, 9), (9, 7), (7, 0)], 279.0)\n",
      "\n",
      "nodes\ttime\n",
      "13\t0.30121469497680664\n",
      "([(0, 4), (4, 1), (1, 10), (10, 2), (2, 13), (13, 3), (3, 9), (9, 11), (11, 5), (5, 7), (7, 12), (12, 6), (6, 8), (8, 0)], 356.0)\n",
      "\n",
      "nodes\ttime\n",
      "14\t0.34084177017211914\n",
      "([(0, 4), (4, 11), (11, 2), (2, 6), (6, 3), (3, 1), (1, 9), (9, 10), (10, 13), (13, 7), (7, 5), (5, 8), (8, 14), (14, 12), (12, 0)], 289.0)\n",
      "\n",
      "nodes\ttime\n",
      "15\t0.39646482467651367\n",
      "([(0, 4), (4, 7), (7, 11), (11, 13), (13, 1), (1, 8), (8, 14), (14, 6), (6, 2), (2, 9), (9, 12), (12, 3), (3, 10), (10, 15), (15, 5), (5, 0)], 262.0)\n",
      "\n",
      "nodes\ttime\n",
      "16\t0.3748297691345215\n",
      "([(0, 16), (16, 1), (1, 7), (7, 2), (2, 3), (3, 15), (15, 10), (10, 8), (8, 6), (6, 13), (13, 9), (9, 11), (11, 14), (14, 4), (4, 12), (12, 5), (5, 0)], 253.0)\n",
      "\n",
      "nodes\ttime\n",
      "17\t0.40587902069091797\n",
      "([(0, 16), (16, 9), (9, 12), (12, 15), (15, 1), (1, 6), (6, 17), (17, 4), (4, 7), (7, 11), (11, 2), (2, 5), (5, 13), (13, 3), (3, 8), (8, 10), (10, 14), (14, 0)], 264.0)\n",
      "\n",
      "nodes\ttime\n",
      "18\t0.4407939910888672\n",
      "([(0, 16), (16, 10), (10, 8), (8, 5), (5, 1), (1, 15), (15, 6), (6, 11), (11, 13), (13, 12), (12, 7), (7, 14), (14, 3), (3, 9), (9, 2), (2, 18), (18, 17), (17, 4), (4, 0)], 264.0)\n",
      "\n",
      "nodes\ttime\n",
      "19\t0.45410799980163574\n",
      "([(0, 16), (16, 17), (17, 6), (6, 3), (3, 10), (10, 5), (5, 18), (18, 1), (1, 4), (4, 9), (9, 15), (15, 13), (13, 12), (12, 2), (2, 7), (7, 19), (19, 11), (11, 8), (8, 14), (14, 0)], 346.0)\n",
      "\n",
      "nodes\ttime\n",
      "20\t0.48921990394592285\n",
      "([(0, 16), (16, 13), (13, 18), (18, 10), (10, 1), (1, 3), (3, 7), (7, 12), (12, 19), (19, 5), (5, 2), (2, 20), (20, 15), (15, 4), (4, 14), (14, 9), (9, 6), (6, 11), (11, 17), (17, 8), (8, 0)], 385.0)\n",
      "\n",
      "nodes\ttime\n",
      "21\t0.5279691219329834\n",
      "([(0, 16), (16, 1), (1, 2), (2, 18), (18, 11), (11, 20), (20, 15), (15, 19), (19, 9), (9, 8), (8, 5), (5, 14), (14, 4), (4, 3), (3, 6), (6, 7), (7, 10), (10, 17), (17, 13), (13, 12), (12, 21), (21, 0)], 438.0)\n",
      "\n",
      "nodes\ttime\n",
      "22\t0.5120751857757568\n",
      "([(0, 22), (22, 10), (10, 9), (9, 18), (18, 16), (16, 2), (2, 20), (20, 21), (21, 15), (15, 7), (7, 19), (19, 14), (14, 12), (12, 1), (1, 11), (11, 8), (8, 3), (3, 6), (6, 13), (13, 4), (4, 5), (5, 17), (17, 0)], 273.0)\n",
      "\n",
      "nodes\ttime\n",
      "23\t0.5675027370452881\n",
      "([(0, 22), (22, 23), (23, 13), (13, 21), (21, 18), (18, 7), (7, 8), (8, 15), (15, 9), (9, 19), (19, 16), (16, 4), (4, 20), (20, 3), (3, 12), (12, 17), (17, 14), (14, 2), (2, 6), (6, 5), (5, 10), (10, 1), (1, 11), (11, 0)], 303.0)\n",
      "\n",
      "nodes\ttime\n",
      "24\t0.5994153022766113\n",
      "([(0, 22), (22, 19), (19, 5), (5, 7), (7, 23), (23, 17), (17, 3), (3, 2), (2, 12), (12, 21), (21, 1), (1, 8), (8, 15), (15, 24), (24, 4), (4, 18), (18, 6), (6, 11), (11, 16), (16, 9), (9, 14), (14, 20), (20, 10), (10, 13), (13, 0)], 313.0)\n",
      "\n",
      "nodes\ttime\n",
      "25\t0.6161608695983887\n",
      "([(0, 22), (22, 11), (11, 20), (20, 4), (4, 12), (12, 6), (6, 16), (16, 7), (7, 24), (24, 14), (14, 5), (5, 1), (1, 18), (18, 9), (9, 19), (19, 21), (21, 15), (15, 23), (23, 8), (8, 17), (17, 13), (13, 25), (25, 10), (10, 2), (2, 3), (3, 0)], 338.0)\n",
      "\n",
      "nodes\ttime\n",
      "26\t0.68711256980896\n",
      "([(0, 22), (22, 17), (17, 14), (14, 11), (11, 1), (1, 6), (6, 16), (16, 26), (26, 5), (5, 9), (9, 7), (7, 24), (24, 10), (10, 21), (21, 23), (23, 15), (15, 8), (8, 2), (2, 12), (12, 25), (25, 20), (20, 13), (13, 19), (19, 18), (18, 4), (4, 3), (3, 0)], 341.0)\n",
      "\n",
      "nodes\ttime\n",
      "27\t0.6614899635314941\n",
      "([(0, 22), (22, 6), (6, 2), (2, 10), (10, 16), (16, 13), (13, 18), (18, 19), (19, 27), (27, 21), (21, 5), (5, 1), (1, 7), (7, 26), (26, 4), (4, 12), (12, 20), (20, 11), (11, 17), (17, 9), (9, 24), (24, 15), (15, 14), (14, 25), (25, 23), (23, 3), (3, 8), (8, 0)], 345.0)\n",
      "\n",
      "nodes\ttime\n",
      "28\t0.7359569072723389\n",
      "([(0, 22), (22, 28), (28, 19), (19, 7), (7, 17), (17, 11), (11, 25), (25, 12), (12, 20), (20, 3), (3, 5), (5, 16), (16, 6), (6, 24), (24, 14), (14, 26), (26, 23), (23, 27), (27, 8), (8, 4), (4, 2), (2, 13), (13, 15), (15, 1), (1, 9), (9, 21), (21, 18), (18, 10), (10, 0)], 418.0)\n",
      "\n",
      "nodes\ttime\n",
      "29\t0.7418701648712158\n",
      "([(0, 22), (22, 26), (26, 25), (25, 13), (13, 9), (9, 15), (15, 19), (19, 8), (8, 1), (1, 4), (4, 18), (18, 6), (6, 10), (10, 7), (7, 12), (12, 28), (28, 2), (2, 11), (11, 5), (5, 21), (21, 20), (20, 24), (24, 29), (29, 3), (3, 17), (17, 23), (23, 14), (14, 16), (16, 27), (27, 0)], 379.0)\n",
      "\n",
      "nodes\ttime\n",
      "30\t0.793940544128418\n",
      "([(0, 22), (22, 18), (18, 25), (25, 8), (8, 27), (27, 21), (21, 28), (28, 5), (5, 6), (6, 26), (26, 9), (9, 2), (2, 1), (1, 7), (7, 16), (16, 30), (30, 12), (12, 11), (11, 24), (24, 19), (19, 14), (14, 4), (4, 20), (20, 15), (15, 3), (3, 17), (17, 10), (10, 29), (29, 23), (23, 13), (13, 0)], 426.0)\n",
      "\n",
      "nodes\ttime\n",
      "31\t0.8265185356140137\n",
      "([(0, 22), (22, 6), (6, 20), (20, 17), (17, 8), (8, 19), (19, 28), (28, 24), (24, 2), (2, 1), (1, 27), (27, 4), (4, 10), (10, 21), (21, 14), (14, 9), (9, 25), (25, 3), (3, 23), (23, 5), (5, 31), (31, 16), (16, 29), (29, 15), (15, 18), (18, 12), (12, 13), (13, 11), (11, 7), (7, 26), (26, 30), (30, 0)], 275.0)\n",
      "\n",
      "nodes\ttime\n",
      "32\t0.8039698600769043\n",
      "([(0, 22), (22, 18), (18, 16), (16, 6), (6, 14), (14, 8), (8, 11), (11, 10), (10, 23), (23, 4), (4, 27), (27, 13), (13, 25), (25, 30), (30, 17), (17, 20), (20, 3), (3, 12), (12, 28), (28, 24), (24, 31), (31, 15), (15, 29), (29, 26), (26, 1), (1, 2), (2, 5), (5, 32), (32, 21), (21, 9), (9, 19), (19, 7), (7, 0)], 371.0)\n",
      "\n",
      "nodes\ttime\n",
      "33\t0.8180887699127197\n",
      "([(0, 22), (22, 26), (26, 7), (7, 28), (28, 32), (32, 21), (21, 29), (29, 17), (17, 18), (18, 33), (33, 31), (31, 3), (3, 19), (19, 4), (4, 1), (1, 25), (25, 30), (30, 20), (20, 2), (2, 27), (27, 23), (23, 8), (8, 6), (6, 10), (10, 13), (13, 5), (5, 24), (24, 9), (9, 12), (12, 16), (16, 15), (15, 11), (11, 14), (14, 0)], 241.0)\n",
      "\n",
      "nodes\ttime\n",
      "34\t0.8722646236419678\n",
      "([(0, 22), (22, 25), (25, 4), (4, 15), (15, 9), (9, 1), (1, 24), (24, 11), (11, 26), (26, 27), (27, 30), (30, 34), (34, 13), (13, 23), (23, 14), (14, 20), (20, 29), (29, 19), (19, 16), (16, 18), (18, 2), (2, 33), (33, 12), (12, 7), (7, 21), (21, 10), (10, 6), (6, 32), (32, 5), (5, 8), (8, 31), (31, 28), (28, 3), (3, 17), (17, 0)], 287.0)\n",
      "\n",
      "nodes\ttime\n",
      "35\t0.9299499988555908\n",
      "([(0, 22), (22, 15), (15, 20), (20, 8), (8, 32), (32, 12), (12, 7), (7, 34), (34, 21), (21, 26), (26, 6), (6, 9), (9, 18), (18, 29), (29, 17), (17, 30), (30, 13), (13, 27), (27, 5), (5, 25), (25, 3), (3, 11), (11, 4), (4, 33), (33, 16), (16, 10), (10, 28), (28, 1), (1, 2), (2, 35), (35, 19), (19, 24), (24, 31), (31, 23), (23, 14), (14, 0)], 341.0)\n",
      "\n",
      "nodes\ttime\n",
      "36\t1.003469705581665\n"
     ]
    }
   ],
   "source": [
    "pnts_ant_n = []\n",
    "pnts_ant_t = []\n",
    "\n",
    "n = 5\n",
    "s = 1\n",
    "t0 = t1 = 0\n",
    "\n",
    "while t1-t0<1:\n",
    "    G = random_symmetric_graph(n,s)\n",
    "    ant_colony = AntColony(np.array(G), 2, 2, 100, 0.95, alpha=1, beta=1)\n",
    "    t0 = time()\n",
    "    shortest_path = ant_colony.run()\n",
    "    t1 = time ()\n",
    "    # record time\n",
    "    print(\"nodes\\ttime\")\n",
    "    print(f\"{n}\\t{t1-t0}\" )\n",
    "    pnts_ant_n.append( n )\n",
    "    pnts_ant_t.append( t1-t0)\n",
    "    n += 1"
   ]
  },
  {
   "cell_type": "code",
   "execution_count": 8,
   "metadata": {},
   "outputs": [
    {
     "data": {
      "image/png": "[encoded data removed]",
      "text/plain": [
       "<Figure size 432x360 with 1 Axes>"
      ]
     },
     "metadata": {
      "needs_background": "light"
     },
     "output_type": "display_data"
    }
   ],
   "source": [
    "# Determine size of the graph\n",
    "plt.rcParams[\"figure.figsize\"] = (6,5)\n",
    "# Plot data\n",
    "plt.plot(pnts_ant_n, pnts_ant_t, 'ro-')\n",
    "# Label x and y axis\n",
    "plt.ylabel('time (s)')\n",
    "plt.xlabel('cities (n)')\n",
    "# show graph\n",
    "plt.show()"
   ]
  },
  {
   "cell_type": "markdown",
   "metadata": {},
   "source": [
    "The graph is testing for time against cities"
   ]
  },
  {
   "cell_type": "markdown",
   "metadata": {},
   "source": [
    "# Comparing both graphs:"
   ]
  },
  {
   "cell_type": "code",
   "execution_count": 9,
   "metadata": {},
   "outputs": [
    {
     "data": {
      "image/png": "[encoded data removed]",
      "text/plain": [
       "<Figure size 432x360 with 1 Axes>"
      ]
     },
     "metadata": {
      "needs_background": "light"
     },
     "output_type": "display_data"
    }
   ],
   "source": [
    "# Determine size of the graph\n",
    "plt.rcParams[\"figure.figsize\"] = (6,5)\n",
    "# Plot data from both ant and grasp search\n",
    "plt.plot(pnts_ant_n, pnts_ant_t, 'ro-', label='Ant')\n",
    "plt.plot(pnts_grasp_n, pnts_grasp_t, 'ro-', color=\"blue\", label='GRASP')\n",
    "# Label x and y axis\n",
    "plt.ylabel('time (s)')\n",
    "plt.xlabel('cities (n)')\n",
    "plt.legend()\n",
    "# show graph\n",
    "plt.show()"
   ]
  },
  {
   "cell_type": "markdown",
   "metadata": {},
   "source": [
    "The graph is testing for time against cities for both the Ant Colony and GRASP search\n",
    "\n",
    "From the graph, the GRASP search grows exponentially as the O notation for this meta-heuristic is 0($2^{n}$). As the input size of the algorithm increases it grows exponentially.\n",
    "\n",
    "The Ant Colony search grows in quadratic time with this meta-heuristic having a complexity of O($n^{2}$). As the input size of the algorithm increases it grows proportional to the square of the size.\n",
    "\n",
    "The Ant Colony has the best time complexity as it grows in quadratic time compared to GRASP search having the worst time complexity, growing in polynomial time."
   ]
  },
  {
   "cell_type": "markdown",
   "metadata": {},
   "source": [
    "# References"
   ]
  },
  {
   "cell_type": "markdown",
   "metadata": {},
   "source": [
    "Akhtar, A. (2019) **'Neural and Evolutionary Computing'** [online] avaliable from https://arxiv.org/abs/1908.08007 [12th April 2020]"
   ]
  },
  {
   "cell_type": "markdown",
   "metadata": {},
   "source": [
    "Anh Tu, P, Tuan Dat, N., Quang Dung, P. (2018) **‘Traveling Salesman Problem with Multiple Drones’** Proceedings of the Ninth International Symposium on Information and Communication Technology [online], 46-53. Available from https://dl.acm.org/doi/abs/10.1145/3287921.3287932 [24 March 2020]"
   ]
  },
  {
   "cell_type": "markdown",
   "metadata": {},
   "source": [
    "Blum, C. (2011) **'Proceedings of the 13th annual conference companion on Genetic and evolutionary computation'** ACM 978-1-4503-0690-4/11/07 [online] avaliable from https://dl.acm.org/doi/abs/10.1145/2001858.2002122 [13th April 2020]"
   ]
  },
  {
   "cell_type": "markdown",
   "metadata": {},
   "source": [
    "Dorigo, M. (2007) **'Ant colony optimization'** [online] avaliable from http://www.scholarpedia.org/article/Ant_colony_optimization [13th April 2020]"
   ]
  },
  {
   "cell_type": "markdown",
   "metadata": {},
   "source": [
    "Hamdi, K. (2014) **‘A mathematical model and a GRASP metaheuristic for a faculty-course assignment problem for a University in Saudi Arabia’** IEEE International Conference on Industrial Engineering and Engineering Management [online], 672-676. Available from https://ieeexplore.ieee.org/stamp/stamp.jsp?tp=&arnumber=7058723 [17 March 2020]"
   ]
  },
  {
   "cell_type": "markdown",
   "metadata": {},
   "source": [
    "Mersiovsky, T., Thekkottil, A., Hanne, T., Dornberger, R. (2018) **‘Optimal Learning Rate and Neighborhood Radius of Kohonen's Self-Organizing Map for Solving the Travelling Salesman Problem’** Proceedings of the 2nd International Conference on Intelligent Systems, Metaheuristics & Swarm Intelligence [online], 54-59. Available from https://dl.acm.org/doi/abs/10.1145/3206185.3206194 [3 March 2020]"
   ]
  },
  {
   "cell_type": "markdown",
   "metadata": {},
   "source": [
    "Ribeiro, C., Resende, M., (1999) **‘Algorithm 797: Fortran subroutines for approximate solution of graph planarization problems using GRASP’** ACM Transactions on Mathematical Software [online], 342-352. Available from http://www.optimization-online.org/DB_FILE/2008/07/2039.pdf [2 March 2020]"
   ]
  },
  {
   "cell_type": "markdown",
   "metadata": {},
   "source": [
    "Talbi, E., (2009) **Metaheuristics: From Design to Implementation** [online], New Jersey: John Wiley & Sons, Inc. available from <https://onlinelibrary.wiley.com/doi/book/10.1002/9780470496916> [5 March 2020]"
   ]
  },
  {
   "cell_type": "markdown",
   "metadata": {},
   "source": [
    "Wikipedia (2020) **Metaheuristic** [online] available from <https://en.wikipedia.org/wiki/Metaheuristic> [12 March 2020]"
   ]
  },
  {
   "cell_type": "markdown",
   "metadata": {},
   "source": [
    "Wiktor, M (n.d.) **'Ant Colony Algorithm'** [online] avaliable from https://mathworld.wolfram.com/AntColonyAlgorithm.html [13th April 2020]"
   ]
  }
 ],
 "metadata": {
  "kernelspec": {
   "display_name": "Python 3",
   "language": "python",
   "name": "python3"
  },
  "language_info": {
   "codemirror_mode": {
    "name": "ipython",
    "version": 3
   },
   "file_extension": ".py",
   "mimetype": "text/x-python",
   "name": "python",
   "nbconvert_exporter": "python",
   "pygments_lexer": "ipython3",
   "version": "3.7.4"
  }
 },
 "nbformat": 4,
 "nbformat_minor": 2
}
